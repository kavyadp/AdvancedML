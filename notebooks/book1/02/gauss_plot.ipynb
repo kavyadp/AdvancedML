{
  "cells": [
    {
      "cell_type": "code",
      "source": [
        "from google.colab import drive\n",
        "drive.mount(\"/content/drive\")"
      ],
      "metadata": {
        "colab": {
          "base_uri": "https://localhost:8080/"
        },
        "id": "dj3ZDN_8AoAk",
        "outputId": "25b04daa-4d9e-4081-b459-d03c3920454a"
      },
      "id": "dj3ZDN_8AoAk",
      "execution_count": 1,
      "outputs": [
        {
          "output_type": "stream",
          "name": "stdout",
          "text": [
            "Mounted at /content/drive\n"
          ]
        }
      ]
    },
    {
      "cell_type": "code",
      "source": [
        "images_dir = '/content/drive/MyDrive/AdvancedML/Homework1/Fig2.2/'"
      ],
      "metadata": {
        "id": "KvdmwS8HBnU-"
      },
      "id": "KvdmwS8HBnU-",
      "execution_count": 2,
      "outputs": []
    },
    {
      "cell_type": "markdown",
      "id": "493701c9",
      "metadata": {
        "id": "493701c9"
      },
      "source": [
        "# CDF and PDF plots of Standard Normal Distribution"
      ]
    },
    {
      "cell_type": "code",
      "execution_count": 3,
      "id": "31b60f1c",
      "metadata": {
        "colab": {
          "base_uri": "https://localhost:8080/"
        },
        "id": "31b60f1c",
        "outputId": "e95fdb59-5810-4a4a-fd6f-20a53f10c526"
      },
      "outputs": [
        {
          "output_type": "stream",
          "name": "stdout",
          "text": [
            "  Installing build dependencies ... \u001b[?25l\u001b[?25hdone\n",
            "  Getting requirements to build wheel ... \u001b[?25l\u001b[?25hdone\n",
            "    Preparing wheel metadata ... \u001b[?25l\u001b[?25hdone\n",
            "\u001b[K     |████████████████████████████████| 272 kB 7.5 MB/s \n",
            "\u001b[K     |████████████████████████████████| 128 kB 48.9 MB/s \n",
            "\u001b[K     |████████████████████████████████| 88 kB 7.0 MB/s \n",
            "\u001b[K     |████████████████████████████████| 85 kB 1.8 MB/s \n",
            "\u001b[K     |████████████████████████████████| 120 kB 42.3 MB/s \n",
            "\u001b[K     |████████████████████████████████| 1.6 MB 39.2 MB/s \n",
            "\u001b[K     |████████████████████████████████| 82 kB 913 kB/s \n",
            "\u001b[K     |████████████████████████████████| 1.1 MB 60.3 MB/s \n",
            "\u001b[?25h  Building wheel for probml-utils (PEP 517) ... \u001b[?25l\u001b[?25hdone\n",
            "  Building wheel for TexSoup (setup.py) ... \u001b[?25l\u001b[?25hdone\n",
            "  Building wheel for umap-learn (setup.py) ... \u001b[?25l\u001b[?25hdone\n",
            "  Building wheel for pynndescent (setup.py) ... \u001b[?25l\u001b[?25hdone\n"
          ]
        }
      ],
      "source": [
        "import jax\n",
        "import jax.numpy as jnp\n",
        "import seaborn as sns\n",
        "import matplotlib.pyplot as plt\n",
        "\n",
        "try:\n",
        "    from probml_utils import latexify, savefig, is_latexify_enabled\n",
        "except ModuleNotFoundError:\n",
        "    %pip install -qq git+https://github.com/probml/probml-utils.git\n",
        "    from probml_utils import latexify, savefig, is_latexify_enabled\n",
        "\n",
        "from jax.scipy.stats import norm"
      ]
    },
    {
      "cell_type": "code",
      "execution_count": null,
      "id": "81e11a1d",
      "metadata": {
        "tags": [
          "hide-input"
        ],
        "id": "81e11a1d"
      },
      "outputs": [],
      "source": [
        "latexify(width_scale_factor=2, fig_height=1.5)"
      ]
    },
    {
      "cell_type": "code",
      "execution_count": 5,
      "id": "747e43e1",
      "metadata": {
        "colab": {
          "base_uri": "https://localhost:8080/",
          "height": 541
        },
        "id": "747e43e1",
        "outputId": "2d274382-e65a-423f-8123-5da38ea01890"
      },
      "outputs": [
        {
          "output_type": "display_data",
          "data": {
            "text/plain": [
              "<Figure size 432x288 with 1 Axes>"
            ],
            "image/png": "[encoded data removed]"
          },
          "metadata": {
            "needs_background": "light"
          }
        },
        {
          "output_type": "display_data",
          "data": {
            "text/plain": [
              "<Figure size 432x288 with 1 Axes>"
            ],
            "image/png": "[encoded data removed]"
          },
          "metadata": {
            "needs_background": "light"
          }
        }
      ],
      "source": [
        "# Plot pdf and cdf of standard normal\n",
        "\n",
        "x = jnp.linspace(-3, 3, 500)\n",
        "\n",
        "\n",
        "def make_graph(data, save_name):\n",
        "    fig, ax = plt.subplots()\n",
        "    ax.plot(data[\"x\"], data[\"y\"])\n",
        "    # plt.title(\"Gaussian pdf\")\n",
        "    plt.xlabel(\"$x$\")\n",
        "    plt.ylabel(data[\"ylabel\"])\n",
        "    sns.despine()\n",
        "    plt.savefig(f\"{images_dir}/{save_name}\")\n",
        "\n",
        "\n",
        "make_graph({\"x\": x, \"y\": norm.pdf(x), \"ylabel\": \"$p(x)$\"}, \"gaussianPdf_1d.png\")\n",
        "make_graph(\n",
        "    {\"x\": x, \"y\": norm.cdf(x), \"ylabel\": \"$Pr(X \\leq x)$\"},\n",
        "    \"gaussianCdf.png\",\n",
        ")"
      ]
    },
    {
      "cell_type": "code",
      "execution_count": null,
      "id": "1d943085",
      "metadata": {
        "id": "1d943085"
      },
      "outputs": [],
      "source": []
    }
  ],
  "metadata": {
    "kernelspec": {
      "display_name": "Python 3 (ipykernel)",
      "language": "python",
      "name": "python3"
    },
    "language_info": {
      "codemirror_mode": {
        "name": "ipython",
        "version": 3
      },
      "file_extension": ".py",
      "mimetype": "text/x-python",
      "name": "python",
      "nbconvert_exporter": "python",
      "pygments_lexer": "ipython3",
      "version": "3.9.7"
    },
    "colab": {
      "provenance": []
    }
  },
  "nbformat": 4,
  "nbformat_minor": 5
}