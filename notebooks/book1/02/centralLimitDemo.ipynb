{
  "cells": [
    {
      "cell_type": "code",
      "source": [
        "from google.colab import drive\n",
        "drive.mount(\"/content/drive\")"
      ],
      "metadata": {
        "id": "7cZQQGJ1Uj-_",
        "outputId": "d088dc5e-8da1-44f4-99eb-3eee47315a0b",
        "colab": {
          "base_uri": "https://localhost:8080/"
        }
      },
      "execution_count": 1,
      "outputs": [
        {
          "output_type": "stream",
          "name": "stdout",
          "text": [
            "Mounted at /content/drive\n"
          ]
        }
      ]
    },
    {
      "cell_type": "code",
      "source": [
        "images_dir = '/content/drive/MyDrive/AdvancedML/Homework1/Fig2.23/'"
      ],
      "metadata": {
        "id": "dvxW7p1HUssb"
      },
      "execution_count": 2,
      "outputs": []
    },
    {
      "cell_type": "markdown",
      "metadata": {
        "id": "H-OhPOi5vOYw"
      },
      "source": [
        "# Central Limit Theorem "
      ]
    },
    {
      "cell_type": "code",
      "execution_count": 3,
      "metadata": {
        "colab": {
          "base_uri": "https://localhost:8080/"
        },
        "id": "hviUehaWifUs",
        "outputId": "c1ba5e90-1197-491c-8cc9-d1e1e3f46fca"
      },
      "outputs": [
        {
          "output_type": "stream",
          "name": "stdout",
          "text": [
            "  Installing build dependencies ... \u001b[?25l\u001b[?25hdone\n",
            "  Getting requirements to build wheel ... \u001b[?25l\u001b[?25hdone\n",
            "    Preparing wheel metadata ... \u001b[?25l\u001b[?25hdone\n",
            "\u001b[K     |████████████████████████████████| 88 kB 5.0 MB/s \n",
            "\u001b[K     |████████████████████████████████| 128 kB 53.0 MB/s \n",
            "\u001b[K     |████████████████████████████████| 272 kB 53.6 MB/s \n",
            "\u001b[K     |████████████████████████████████| 85 kB 5.2 MB/s \n",
            "\u001b[K     |████████████████████████████████| 120 kB 56.4 MB/s \n",
            "\u001b[K     |████████████████████████████████| 1.6 MB 51.7 MB/s \n",
            "\u001b[K     |████████████████████████████████| 82 kB 1.0 MB/s \n",
            "\u001b[K     |████████████████████████████████| 1.1 MB 50.8 MB/s \n",
            "\u001b[?25h  Building wheel for probml-utils (PEP 517) ... \u001b[?25l\u001b[?25hdone\n",
            "  Building wheel for TexSoup (setup.py) ... \u001b[?25l\u001b[?25hdone\n",
            "  Building wheel for umap-learn (setup.py) ... \u001b[?25l\u001b[?25hdone\n",
            "  Building wheel for pynndescent (setup.py) ... \u001b[?25l\u001b[?25hdone\n"
          ]
        }
      ],
      "source": [
        "import jax\n",
        "import jax.numpy as jnp\n",
        "import matplotlib.pyplot as plt\n",
        "import seaborn as sns\n",
        "\n",
        "try:\n",
        "    from probml_utils import savefig, latexify\n",
        "except ModuleNotFoundError:\n",
        "    %pip install -qq git+https://github.com/probml/probml-utils.git\n",
        "    from probml_utils import savefig, latexify"
      ]
    },
    {
      "cell_type": "code",
      "execution_count": 4,
      "metadata": {
        "colab": {
          "base_uri": "https://localhost:8080/"
        },
        "id": "soWNeVQhlKXE",
        "outputId": "2f4a1831-cde3-4054-a9cc-c2231039d7fc"
      },
      "outputs": [
        {
          "output_type": "stream",
          "name": "stderr",
          "text": [
            "/usr/local/lib/python3.7/dist-packages/probml_utils/plotting.py:25: UserWarning: LATEXIFY environment variable not set, not latexifying\n",
            "  warnings.warn(\"LATEXIFY environment variable not set, not latexifying\")\n"
          ]
        }
      ],
      "source": [
        "latexify(width_scale_factor=2, fig_height=1.85)"
      ]
    },
    {
      "cell_type": "code",
      "execution_count": 5,
      "metadata": {
        "id": "8qKbn5n2mquU"
      },
      "outputs": [],
      "source": [
        "def calcMean(keys, N):\n",
        "    # Generates N random numbers from 1 to 5 and calculates their mean.\n",
        "    x = jnp.mean(jax.random.beta(keys, 1, 5, [1, N]))\n",
        "    return x"
      ]
    },
    {
      "cell_type": "code",
      "execution_count": 7,
      "metadata": {
        "id": "75cDaL5BjHkw"
      },
      "outputs": [],
      "source": [
        "def plot_convolutionHist(mean_list, N, sampleSize, bins):\n",
        "    counts, nbinslocation = jnp.histogram(mean_list, bins=20)\n",
        "    counts = counts / (sampleSize / bins)\n",
        "\n",
        "    plt.figure()\n",
        "    plt.title(f\"N = {N}\")\n",
        "    plt.bar(nbinslocation[:-1], counts, width=0.02, color=\"black\", align=\"edge\")\n",
        "\n",
        "    plt.xticks(jnp.linspace(0, 1, 3))\n",
        "    plt.yticks(jnp.linspace(0, 3, 4))\n",
        "    plt.xlim(0, 1)\n",
        "    plt.ylim(0, 3)\n",
        "    plt.xlabel(\"$bins$\")\n",
        "    plt.ylabel(\"$Frequency\\ (\\mu)$\")\n",
        "    sns.despine()\n",
        "    # savefig(f\"clt_N_{N}\")\n",
        "    plt.savefig(f\"{images_dir}/clt_N_{N}\")\n",
        "    # plt.show()"
      ]
    },
    {
      "cell_type": "code",
      "execution_count": 8,
      "metadata": {
        "id": "rYupguj8aqep",
        "outputId": "efe2ce48-3056-437e-fa22-a0ef5b6375f3",
        "colab": {
          "base_uri": "https://localhost:8080/"
        }
      },
      "outputs": [
        {
          "output_type": "stream",
          "name": "stderr",
          "text": [
            "WARNING:absl:No GPU/TPU found, falling back to CPU. (Set TF_CPP_MIN_LOG_LEVEL=0 and rerun for more info.)\n"
          ]
        }
      ],
      "source": [
        "key = jax.random.PRNGKey(1)\n",
        "keys = jax.random.split(key, num=10000)"
      ]
    },
    {
      "cell_type": "code",
      "execution_count": 9,
      "metadata": {
        "colab": {
          "base_uri": "https://localhost:8080/",
          "height": 577
        },
        "id": "WQzGCN_ci0jD",
        "outputId": "0f10909c-3943-44b1-cd8c-0f85f29de2c0"
      },
      "outputs": [
        {
          "output_type": "display_data",
          "data": {
            "text/plain": [
              "<Figure size 432x288 with 1 Axes>"
            ],
            "image/png": "[encoded data removed]"
          },
          "metadata": {
            "needs_background": "light"
          }
        },
        {
          "output_type": "display_data",
          "data": {
            "text/plain": [
              "<Figure size 432x288 with 1 Axes>"
            ],
            "image/png": "[encoded data removed]"
          },
          "metadata": {
            "needs_background": "light"
          }
        }
      ],
      "source": [
        "sampleSize = 10000\n",
        "bins = 20\n",
        "N_array = [1, 5]\n",
        "for N in N_array:\n",
        "    means = jax.vmap(calcMean, in_axes=(0, None), out_axes=0)\n",
        "    out = means(keys, N)\n",
        "    plot_convolutionHist(out, N, sampleSize, bins)"
      ]
    },
    {
      "cell_type": "code",
      "execution_count": 10,
      "metadata": {
        "id": "APCNtmZQsAS7",
        "outputId": "92b1afcf-9470-41d9-ff96-d07fc4b7e0be",
        "colab": {
          "base_uri": "https://localhost:8080/",
          "height": 329,
          "referenced_widgets": [
            "a1c719c1f2f7483192b7ab2e88f66973",
            "ad3e1f14debb47be97b89cf052ce7ad0",
            "7be6305281d74301be1b4e8da75c005d",
            "735606bdc76240d88f24f19d96491fa6",
            "590072b9051f4088bce0c6295d1624ee",
            "d6e34b25946a4647ac396dfef067ab9a",
            "dbf0d2a0926040c888a5d91bf44f1ff7"
          ]
        }
      },
      "outputs": [
        {
          "output_type": "display_data",
          "data": {
            "text/plain": [
              "interactive(children=(IntSlider(value=5, description='N_value', max=10, min=1), Output()), _dom_classes=('widg…"
            ],
            "application/vnd.jupyter.widget-view+json": {
              "version_major": 2,
              "version_minor": 0,
              "model_id": "a1c719c1f2f7483192b7ab2e88f66973"
            }
          },
          "metadata": {}
        }
      ],
      "source": [
        "from ipywidgets import interact\n",
        "\n",
        "\n",
        "@interact(N_value=(1, 10))\n",
        "def generate_random(N_value):\n",
        "    sampleSize = 100000\n",
        "    bins = 20\n",
        "    means = jax.vmap(calcMean, in_axes=(0, None), out_axes=0)\n",
        "    out = means(keys, N_value)\n",
        "    plot_convolutionHist(out, N_value, sampleSize, bins)"
      ]
    },
    {
      "cell_type": "code",
      "execution_count": null,
      "metadata": {
        "id": "VjNDZLJCoqPU"
      },
      "outputs": [],
      "source": []
    }
  ],
  "metadata": {
    "colab": {
      "collapsed_sections": [],
      "name": "centralLimitDemo.ipynb",
      "provenance": []
    },
    "kernelspec": {
      "display_name": "Python 3",
      "name": "python3"
    },
    "language_info": {
      "name": "python"
    },
    "widgets": {
      "application/vnd.jupyter.widget-state+json": {
        "a1c719c1f2f7483192b7ab2e88f66973": {
          "model_module": "@jupyter-widgets/controls",
          "model_name": "VBoxModel",
          "model_module_version": "1.5.0",
          "state": {
            "_dom_classes": [
              "widget-interact"
            ],
            "_model_module": "@jupyter-widgets/controls",
            "_model_module_version": "1.5.0",
            "_model_name": "VBoxModel",
            "_view_count": null,
            "_view_module": "@jupyter-widgets/controls",
            "_view_module_version": "1.5.0",
            "_view_name": "VBoxView",
            "box_style": "",
            "children": [
              "IPY_MODEL_ad3e1f14debb47be97b89cf052ce7ad0",
              "IPY_MODEL_7be6305281d74301be1b4e8da75c005d"
            ],
            "layout": "IPY_MODEL_735606bdc76240d88f24f19d96491fa6"
          }
        },
        "ad3e1f14debb47be97b89cf052ce7ad0": {
          "model_module": "@jupyter-widgets/controls",
          "model_name": "IntSliderModel",
          "model_module_version": "1.5.0",
          "state": {
            "_dom_classes": [],
            "_model_module": "@jupyter-widgets/controls",
            "_model_module_version": "1.5.0",
            "_model_name": "IntSliderModel",
            "_view_count": null,
            "_view_module": "@jupyter-widgets/controls",
            "_view_module_version": "1.5.0",
            "_view_name": "IntSliderView",
            "continuous_update": true,
            "description": "N_value",
            "description_tooltip": null,
            "disabled": false,
            "layout": "IPY_MODEL_590072b9051f4088bce0c6295d1624ee",
            "max": 10,
            "min": 1,
            "orientation": "horizontal",
            "readout": true,
            "readout_format": "d",
            "step": 1,
            "style": "IPY_MODEL_d6e34b25946a4647ac396dfef067ab9a",
            "value": 10
          }
        },
        "7be6305281d74301be1b4e8da75c005d": {
          "model_module": "@jupyter-widgets/output",
          "model_name": "OutputModel",
          "model_module_version": "1.0.0",
          "state": {
            "_dom_classes": [],
            "_model_module": "@jupyter-widgets/output",
            "_model_module_version": "1.0.0",
            "_model_name": "OutputModel",
            "_view_count": null,
            "_view_module": "@jupyter-widgets/output",
            "_view_module_version": "1.0.0",
            "_view_name": "OutputView",
            "layout": "IPY_MODEL_dbf0d2a0926040c888a5d91bf44f1ff7",
            "msg_id": "",
            "outputs": [
              {
                "output_type": "display_data",
                "data": {
                  "text/plain": "<Figure size 432x288 with 1 Axes>",
                  "image/png": "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\n"
                },
                "metadata": {
                  "needs_background": "light"
                }
              }
            ]
          }
        },
        "735606bdc76240d88f24f19d96491fa6": {
          "model_module": "@jupyter-widgets/base",
          "model_name": "LayoutModel",
          "model_module_version": "1.2.0",
          "state": {
            "_model_module": "@jupyter-widgets/base",
            "_model_module_version": "1.2.0",
            "_model_name": "LayoutModel",
            "_view_count": null,
            "_view_module": "@jupyter-widgets/base",
            "_view_module_version": "1.2.0",
            "_view_name": "LayoutView",
            "align_content": null,
            "align_items": null,
            "align_self": null,
            "border": null,
            "bottom": null,
            "display": null,
            "flex": null,
            "flex_flow": null,
            "grid_area": null,
            "grid_auto_columns": null,
            "grid_auto_flow": null,
            "grid_auto_rows": null,
            "grid_column": null,
            "grid_gap": null,
            "grid_row": null,
            "grid_template_areas": null,
            "grid_template_columns": null,
            "grid_template_rows": null,
            "height": null,
            "justify_content": null,
            "justify_items": null,
            "left": null,
            "margin": null,
            "max_height": null,
            "max_width": null,
            "min_height": null,
            "min_width": null,
            "object_fit": null,
            "object_position": null,
            "order": null,
            "overflow": null,
            "overflow_x": null,
            "overflow_y": null,
            "padding": null,
            "right": null,
            "top": null,
            "visibility": null,
            "width": null
          }
        },
        "590072b9051f4088bce0c6295d1624ee": {
          "model_module": "@jupyter-widgets/base",
          "model_name": "LayoutModel",
          "model_module_version": "1.2.0",
          "state": {
            "_model_module": "@jupyter-widgets/base",
            "_model_module_version": "1.2.0",
            "_model_name": "LayoutModel",
            "_view_count": null,
            "_view_module": "@jupyter-widgets/base",
            "_view_module_version": "1.2.0",
            "_view_name": "LayoutView",
            "align_content": null,
            "align_items": null,
            "align_self": null,
            "border": null,
            "bottom": null,
            "display": null,
            "flex": null,
            "flex_flow": null,
            "grid_area": null,
            "grid_auto_columns": null,
            "grid_auto_flow": null,
            "grid_auto_rows": null,
            "grid_column": null,
            "grid_gap": null,
            "grid_row": null,
            "grid_template_areas": null,
            "grid_template_columns": null,
            "grid_template_rows": null,
            "height": null,
            "justify_content": null,
            "justify_items": null,
            "left": null,
            "margin": null,
            "max_height": null,
            "max_width": null,
            "min_height": null,
            "min_width": null,
            "object_fit": null,
            "object_position": null,
            "order": null,
            "overflow": null,
            "overflow_x": null,
            "overflow_y": null,
            "padding": null,
            "right": null,
            "top": null,
            "visibility": null,
            "width": null
          }
        },
        "d6e34b25946a4647ac396dfef067ab9a": {
          "model_module": "@jupyter-widgets/controls",
          "model_name": "SliderStyleModel",
          "model_module_version": "1.5.0",
          "state": {
            "_model_module": "@jupyter-widgets/controls",
            "_model_module_version": "1.5.0",
            "_model_name": "SliderStyleModel",
            "_view_count": null,
            "_view_module": "@jupyter-widgets/base",
            "_view_module_version": "1.2.0",
            "_view_name": "StyleView",
            "description_width": "",
            "handle_color": null
          }
        },
        "dbf0d2a0926040c888a5d91bf44f1ff7": {
          "model_module": "@jupyter-widgets/base",
          "model_name": "LayoutModel",
          "model_module_version": "1.2.0",
          "state": {
            "_model_module": "@jupyter-widgets/base",
            "_model_module_version": "1.2.0",
            "_model_name": "LayoutModel",
            "_view_count": null,
            "_view_module": "@jupyter-widgets/base",
            "_view_module_version": "1.2.0",
            "_view_name": "LayoutView",
            "align_content": null,
            "align_items": null,
            "align_self": null,
            "border": null,
            "bottom": null,
            "display": null,
            "flex": null,
            "flex_flow": null,
            "grid_area": null,
            "grid_auto_columns": null,
            "grid_auto_flow": null,
            "grid_auto_rows": null,
            "grid_column": null,
            "grid_gap": null,
            "grid_row": null,
            "grid_template_areas": null,
            "grid_template_columns": null,
            "grid_template_rows": null,
            "height": null,
            "justify_content": null,
            "justify_items": null,
            "left": null,
            "margin": null,
            "max_height": null,
            "max_width": null,
            "min_height": null,
            "min_width": null,
            "object_fit": null,
            "object_position": null,
            "order": null,
            "overflow": null,
            "overflow_x": null,
            "overflow_y": null,
            "padding": null,
            "right": null,
            "top": null,
            "visibility": null,
            "width": null
          }
        }
      }
    }
  },
  "nbformat": 4,
  "nbformat_minor": 0
}