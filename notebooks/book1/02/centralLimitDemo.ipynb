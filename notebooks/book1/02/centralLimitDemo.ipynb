{
  "cells": [
    {
      "cell_type": "code",
      "source": [
        "from google.colab import drive\n",
        "drive.mount(\"/content/drive\")"
      ],
      "metadata": {
        "colab": {
          "base_uri": "https://localhost:8080/"
        },
        "id": "7cZQQGJ1Uj-_",
        "outputId": "d088dc5e-8da1-44f4-99eb-3eee47315a0b"
      },
      "execution_count": 1,
      "outputs": [
        {
          "output_type": "stream",
          "name": "stdout",
          "text": [
            "Mounted at /content/drive\n"
          ]
        }
      ]
    },
    {
      "cell_type": "code",
      "source": [
        "images_dir = '/content/drive/MyDrive/AdvancedML/Homework1/Fig2.23/'"
      ],
      "metadata": {
        "id": "dvxW7p1HUssb"
      },
      "execution_count": 2,
      "outputs": []
    },
    {
      "cell_type": "markdown",
      "metadata": {
        "id": "H-OhPOi5vOYw"
      },
      "source": [
        "# Central Limit Theorem "
      ]
    },
    {
      "cell_type": "code",
      "execution_count": 3,
      "metadata": {
        "colab": {
          "base_uri": "https://localhost:8080/"
        },
        "id": "hviUehaWifUs",
        "outputId": "c1ba5e90-1197-491c-8cc9-d1e1e3f46fca"
      },
      "outputs": [
        {
          "output_type": "stream",
          "name": "stdout",
          "text": [
            "  Installing build dependencies ... \u001b[?25l\u001b[?25hdone\n",
            "  Getting requirements to build wheel ... \u001b[?25l\u001b[?25hdone\n",
            "    Preparing wheel metadata ... \u001b[?25l\u001b[?25hdone\n",
            "\u001b[K     |████████████████████████████████| 88 kB 5.0 MB/s \n",
            "\u001b[K     |████████████████████████████████| 128 kB 53.0 MB/s \n",
            "\u001b[K     |████████████████████████████████| 272 kB 53.6 MB/s \n",
            "\u001b[K     |████████████████████████████████| 85 kB 5.2 MB/s \n",
            "\u001b[K     |████████████████████████████████| 120 kB 56.4 MB/s \n",
            "\u001b[K     |████████████████████████████████| 1.6 MB 51.7 MB/s \n",
            "\u001b[K     |████████████████████████████████| 82 kB 1.0 MB/s \n",
            "\u001b[K     |████████████████████████████████| 1.1 MB 50.8 MB/s \n",
            "\u001b[?25h  Building wheel for probml-utils (PEP 517) ... \u001b[?25l\u001b[?25hdone\n",
            "  Building wheel for TexSoup (setup.py) ... \u001b[?25l\u001b[?25hdone\n",
            "  Building wheel for umap-learn (setup.py) ... \u001b[?25l\u001b[?25hdone\n",
            "  Building wheel for pynndescent (setup.py) ... \u001b[?25l\u001b[?25hdone\n"
          ]
        }
      ],
      "source": [
        "import jax\n",
        "import jax.numpy as jnp\n",
        "import matplotlib.pyplot as plt\n",
        "import seaborn as sns\n",
        "\n",
        "try:\n",
        "    from probml_utils import savefig, latexify\n",
        "except ModuleNotFoundError:\n",
        "    %pip install -qq git+https://github.com/probml/probml-utils.git\n",
        "    from probml_utils import savefig, latexify"
      ]
    },
    {
      "cell_type": "code",
      "execution_count": 4,
      "metadata": {
        "colab": {
          "base_uri": "https://localhost:8080/"
        },
        "id": "soWNeVQhlKXE",
        "outputId": "2f4a1831-cde3-4054-a9cc-c2231039d7fc"
      },
      "outputs": [
        {
          "output_type": "stream",
          "name": "stderr",
          "text": [
            "/usr/local/lib/python3.7/dist-packages/probml_utils/plotting.py:25: UserWarning: LATEXIFY environment variable not set, not latexifying\n",
            "  warnings.warn(\"LATEXIFY environment variable not set, not latexifying\")\n"
          ]
        }
      ],
      "source": [
        "latexify(width_scale_factor=2, fig_height=1.85)"
      ]
    },
    {
      "cell_type": "code",
      "execution_count": 5,
      "metadata": {
        "id": "8qKbn5n2mquU"
      },
      "outputs": [],
      "source": [
        "def calcMean(keys, N):\n",
        "    # Generates N random numbers from 1 to 5 and calculates their mean.\n",
        "    x = jnp.mean(jax.random.beta(keys, 1, 5, [1, N]))\n",
        "    return x"
      ]
    },
    {
      "cell_type": "code",
      "execution_count": 7,
      "metadata": {
        "id": "75cDaL5BjHkw"
      },
      "outputs": [],
      "source": [
        "def plot_convolutionHist(mean_list, N, sampleSize, bins):\n",
        "    counts, nbinslocation = jnp.histogram(mean_list, bins=20)\n",
        "    counts = counts / (sampleSize / bins)\n",
        "\n",
        "    plt.figure()\n",
        "    plt.title(f\"N = {N}\")\n",
        "    plt.bar(nbinslocation[:-1], counts, width=0.02, color=\"black\", align=\"edge\")\n",
        "\n",
        "    plt.xticks(jnp.linspace(0, 1, 3))\n",
        "    plt.yticks(jnp.linspace(0, 3, 4))\n",
        "    plt.xlim(0, 1)\n",
        "    plt.ylim(0, 3)\n",
        "    plt.xlabel(\"$bins$\")\n",
        "    plt.ylabel(\"$Frequency\\ (\\mu)$\")\n",
        "    sns.despine()\n",
        "    # savefig(f\"clt_N_{N}\")\n",
        "    plt.savefig(f\"{images_dir}/clt_N_{N}\")\n",
        "    # plt.show()"
      ]
    },
    {
      "cell_type": "code",
      "execution_count": 8,
      "metadata": {
        "id": "rYupguj8aqep",
        "colab": {
          "base_uri": "https://localhost:8080/"
        },
        "outputId": "efe2ce48-3056-437e-fa22-a0ef5b6375f3"
      },
      "outputs": [
        {
          "output_type": "stream",
          "name": "stderr",
          "text": [
            "WARNING:absl:No GPU/TPU found, falling back to CPU. (Set TF_CPP_MIN_LOG_LEVEL=0 and rerun for more info.)\n"
          ]
        }
      ],
      "source": [
        "key = jax.random.PRNGKey(1)\n",
        "keys = jax.random.split(key, num=10000)"
      ]
    },
    {
      "cell_type": "code",
      "execution_count": 9,
      "metadata": {
        "colab": {
          "base_uri": "https://localhost:8080/",
          "height": 577
        },
        "id": "WQzGCN_ci0jD",
        "outputId": "0f10909c-3943-44b1-cd8c-0f85f29de2c0"
      },
      "outputs": [
        {
          "output_type": "display_data",
          "data": {
            "text/plain": [
              "<Figure size 432x288 with 1 Axes>"
            ],
            "image/png": "[encoded data removed]"
          },
          "metadata": {
            "needs_background": "light"
          }
        },
        {
          "output_type": "display_data",
          "data": {
            "text/plain": [
              "<Figure size 432x288 with 1 Axes>"
            ],
            "image/png": "[encoded data removed]"
          },
          "metadata": {
            "needs_background": "light"
          }
        }
      ],
      "source": [
        "sampleSize = 10000\n",
        "bins = 20\n",
        "N_array = [1, 5]\n",
        "for N in N_array:\n",
        "    means = jax.vmap(calcMean, in_axes=(0, None), out_axes=0)\n",
        "    out = means(keys, N)\n",
        "    plot_convolutionHist(out, N, sampleSize, bins)"
      ]
    },
    {
      "cell_type": "code",
      "execution_count": 10,
      "metadata": {
        "id": "APCNtmZQsAS7",
        "colab": {
          "base_uri": "https://localhost:8080/",
          "height": 329,
          "referenced_widgets": [
            "a1c719c1f2f7483192b7ab2e88f66973",
            "ad3e1f14debb47be97b89cf052ce7ad0",
            "7be6305281d74301be1b4e8da75c005d",
            "735606bdc76240d88f24f19d96491fa6",
            "590072b9051f4088bce0c6295d1624ee",
            "d6e34b25946a4647ac396dfef067ab9a",
            "dbf0d2a0926040c888a5d91bf44f1ff7"
          ]
        },
        "outputId": "92b1afcf-9470-41d9-ff96-d07fc4b7e0be"
      },
      "outputs": [
        {
          "output_type": "display_data",
          "data": {
            "text/plain": [
              "interactive(children=(IntSlider(value=5, description='N_value', max=10, min=1), Output()), _dom_classes=('widg…"
            ],
            "application/vnd.jupyter.widget-view+json": {
              "version_major": 2,
              "version_minor": 0,
              "model_id": "a1c719c1f2f7483192b7ab2e88f66973"
            }
          },
          "metadata": {}
        }
      ],
      "source": [
        "from ipywidgets import interact\n",
        "\n",
        "\n",
        "@interact(N_value=(1, 10))\n",
        "def generate_random(N_value):\n",
        "    sampleSize = 100000\n",
        "    bins = 20\n",
        "    means = jax.vmap(calcMean, in_axes=(0, None), out_axes=0)\n",
        "    out = means(keys, N_value)\n",
        "    plot_convolutionHist(out, N_value, sampleSize, bins)"
      ]
    },
    {
      "cell_type": "code",
      "execution_count": null,
      "metadata": {
        "id": "VjNDZLJCoqPU"
      },
      "outputs": [],
      "source": []
    }
  ],
  "metadata": {
    "colab": {
      "collapsed_sections": [],
      "name": "centralLimitDemo.ipynb",
      "provenance": []
    },
    "kernelspec": {
      "display_name": "Python 3",
      "name": "python3"
    },
    "language_info": {
      "name": "python"
    },
    "widgets": {
      "application/vnd.jupyter.widget-state+json": {
        "a1c719c1f2f7483192b7ab2e88f66973": {
          "model_module": "@jupyter-widgets/controls",
          "model_name": "VBoxModel",
          "model_module_version": "1.5.0",
          "state": {
            "_dom_classes": [
              "widget-interact"
            ],
            "_model_module": "@jupyter-widgets/controls",
            "_model_module_version": "1.5.0",
            "_model_name": "VBoxModel",
            "_view_count": null,
            "_view_module": "@jupyter-widgets/controls",
            "_view_module_version": "1.5.0",
            "_view_name": "VBoxView",
            "box_style": "",
            "children": [
              "IPY_MODEL_ad3e1f14debb47be97b89cf052ce7ad0",
              "IPY_MODEL_7be6305281d74301be1b4e8da75c005d"
            ],
            "layout": "IPY_MODEL_735606bdc76240d88f24f19d96491fa6"
          }
        },
        "ad3e1f14debb47be97b89cf052ce7ad0": {
          "model_module": "@jupyter-widgets/controls",
          "model_name": "IntSliderModel",
          "model_module_version": "1.5.0",
          "state": {
            "_dom_classes": [],
            "_model_module": "@jupyter-widgets/controls",
            "_model_module_version": "1.5.0",
            "_model_name": "IntSliderModel",
            "_view_count": null,
            "_view_module": "@jupyter-widgets/controls",
            "_view_module_version": "1.5.0",
            "_view_name": "IntSliderView",
            "continuous_update": true,
            "description": "N_value",
            "description_tooltip": null,
            "disabled": false,
            "layout": "IPY_MODEL_590072b9051f4088bce0c6295d1624ee",
            "max": 10,
            "min": 1,
            "orientation": "horizontal",
            "readout": true,
            "readout_format": "d",
            "step": 1,
            "style": "IPY_MODEL_d6e34b25946a4647ac396dfef067ab9a",
            "value": 1
          }
        },
        "7be6305281d74301be1b4e8da75c005d": {
          "model_module": "@jupyter-widgets/output",
          "model_name": "OutputModel",
          "model_module_version": "1.0.0",
          "state": {
            "_dom_classes": [],
            "_model_module": "@jupyter-widgets/output",
            "_model_module_version": "1.0.0",
            "_model_name": "OutputModel",
            "_view_count": null,
            "_view_module": "@jupyter-widgets/output",
            "_view_module_version": "1.0.0",
            "_view_name": "OutputView",
            "layout": "IPY_MODEL_dbf0d2a0926040c888a5d91bf44f1ff7",
            "msg_id": "",
            "outputs": [
              {
                "output_type": "display_data",
                "data": {
                  "text/plain": "<Figure size 432x288 with 1 Axes>",
                  "image/png": "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\n"
                },
                "metadata": {
                  "needs_background": "light"
                }
              }
            ]
          }
        },
        "735606bdc76240d88f24f19d96491fa6": {
          "model_module": "@jupyter-widgets/base",
          "model_name": "LayoutModel",
          "model_module_version": "1.2.0",
          "state": {
            "_model_module": "@jupyter-widgets/base",
            "_model_module_version": "1.2.0",
            "_model_name": "LayoutModel",
            "_view_count": null,
            "_view_module": "@jupyter-widgets/base",
            "_view_module_version": "1.2.0",
            "_view_name": "LayoutView",
            "align_content": null,
            "align_items": null,
            "align_self": null,
            "border": null,
            "bottom": null,
            "display": null,
            "flex": null,
            "flex_flow": null,
            "grid_area": null,
            "grid_auto_columns": null,
            "grid_auto_flow": null,
            "grid_auto_rows": null,
            "grid_column": null,
            "grid_gap": null,
            "grid_row": null,
            "grid_template_areas": null,
            "grid_template_columns": null,
            "grid_template_rows": null,
            "height": null,
            "justify_content": null,
            "justify_items": null,
            "left": null,
            "margin": null,
            "max_height": null,
            "max_width": null,
            "min_height": null,
            "min_width": null,
            "object_fit": null,
            "object_position": null,
            "order": null,
            "overflow": null,
            "overflow_x": null,
            "overflow_y": null,
            "padding": null,
            "right": null,
            "top": null,
            "visibility": null,
            "width": null
          }
        },
        "590072b9051f4088bce0c6295d1624ee": {
          "model_module": "@jupyter-widgets/base",
          "model_name": "LayoutModel",
          "model_module_version": "1.2.0",
          "state": {
            "_model_module": "@jupyter-widgets/base",
            "_model_module_version": "1.2.0",
            "_model_name": "LayoutModel",
            "_view_count": null,
            "_view_module": "@jupyter-widgets/base",
            "_view_module_version": "1.2.0",
            "_view_name": "LayoutView",
            "align_content": null,
            "align_items": null,
            "align_self": null,
            "border": null,
            "bottom": null,
            "display": null,
            "flex": null,
            "flex_flow": null,
            "grid_area": null,
            "grid_auto_columns": null,
            "grid_auto_flow": null,
            "grid_auto_rows": null,
            "grid_column": null,
            "grid_gap": null,
            "grid_row": null,
            "grid_template_areas": null,
            "grid_template_columns": null,
            "grid_template_rows": null,
            "height": null,
            "justify_content": null,
            "justify_items": null,
            "left": null,
            "margin": null,
            "max_height": null,
            "max_width": null,
            "min_height": null,
            "min_width": null,
            "object_fit": null,
            "object_position": null,
            "order": null,
            "overflow": null,
            "overflow_x": null,
            "overflow_y": null,
            "padding": null,
            "right": null,
            "top": null,
            "visibility": null,
            "width": null
          }
        },
        "d6e34b25946a4647ac396dfef067ab9a": {
          "model_module": "@jupyter-widgets/controls",
          "model_name": "SliderStyleModel",
          "model_module_version": "1.5.0",
          "state": {
            "_model_module": "@jupyter-widgets/controls",
            "_model_module_version": "1.5.0",
            "_model_name": "SliderStyleModel",
            "_view_count": null,
            "_view_module": "@jupyter-widgets/base",
            "_view_module_version": "1.2.0",
            "_view_name": "StyleView",
            "description_width": "",
            "handle_color": null
          }
        },
        "dbf0d2a0926040c888a5d91bf44f1ff7": {
          "model_module": "@jupyter-widgets/base",
          "model_name": "LayoutModel",
          "model_module_version": "1.2.0",
          "state": {
            "_model_module": "@jupyter-widgets/base",
            "_model_module_version": "1.2.0",
            "_model_name": "LayoutModel",
            "_view_count": null,
            "_view_module": "@jupyter-widgets/base",
            "_view_module_version": "1.2.0",
            "_view_name": "LayoutView",
            "align_content": null,
            "align_items": null,
            "align_self": null,
            "border": null,
            "bottom": null,
            "display": null,
            "flex": null,
            "flex_flow": null,
            "grid_area": null,
            "grid_auto_columns": null,
            "grid_auto_flow": null,
            "grid_auto_rows": null,
            "grid_column": null,
            "grid_gap": null,
            "grid_row": null,
            "grid_template_areas": null,
            "grid_template_columns": null,
            "grid_template_rows": null,
            "height": null,
            "justify_content": null,
            "justify_items": null,
            "left": null,
            "margin": null,
            "max_height": null,
            "max_width": null,
            "min_height": null,
            "min_width": null,
            "object_fit": null,
            "object_position": null,
            "order": null,
            "overflow": null,
            "overflow_x": null,
            "overflow_y": null,
            "padding": null,
            "right": null,
            "top": null,
            "visibility": null,
            "width": null
          }
        }
      }
    }
  },
  "nbformat": 4,
  "nbformat_minor": 0
}