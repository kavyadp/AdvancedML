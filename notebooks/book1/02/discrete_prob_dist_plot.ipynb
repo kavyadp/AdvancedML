{
  "cells": [
    {
      "cell_type": "code",
      "source": [
        "from google.colab import drive\n",
        "drive.mount(\"/content/drive\")"
      ],
      "metadata": {
        "id": "UIO30nPz67Lj",
        "outputId": "ad0eb155-2bc5-4e09-8a35-7b5c56270c29",
        "colab": {
          "base_uri": "https://localhost:8080/"
        }
      },
      "execution_count": 1,
      "outputs": [
        {
          "output_type": "stream",
          "name": "stdout",
          "text": [
            "Mounted at /content/drive\n"
          ]
        }
      ]
    },
    {
      "cell_type": "code",
      "source": [
        "images_dir = '/content/drive/MyDrive/AdvancedML/Homework1/Fig2.1/'"
      ],
      "metadata": {
        "id": "s-Rx9VvK7kWo"
      },
      "execution_count": 2,
      "outputs": []
    },
    {
      "cell_type": "markdown",
      "metadata": {
        "id": "8Ajs3PJ965Ui"
      },
      "source": [
        "# Discrete Probability Distribution Plot"
      ]
    },
    {
      "cell_type": "code",
      "execution_count": 3,
      "metadata": {
        "id": "w38npPRA65Up",
        "outputId": "23512580-949e-4224-a8a7-d02b60372574",
        "colab": {
          "base_uri": "https://localhost:8080/"
        }
      },
      "outputs": [
        {
          "output_type": "stream",
          "name": "stdout",
          "text": [
            "  Installing build dependencies ... \u001b[?25l\u001b[?25hdone\n",
            "  Getting requirements to build wheel ... \u001b[?25l\u001b[?25hdone\n",
            "    Preparing wheel metadata ... \u001b[?25l\u001b[?25hdone\n",
            "\u001b[K     |████████████████████████████████| 272 kB 33.8 MB/s \n",
            "\u001b[K     |████████████████████████████████| 128 kB 80.9 MB/s \n",
            "\u001b[K     |████████████████████████████████| 88 kB 9.3 MB/s \n",
            "\u001b[K     |████████████████████████████████| 85 kB 4.9 MB/s \n",
            "\u001b[K     |████████████████████████████████| 120 kB 81.9 MB/s \n",
            "\u001b[K     |████████████████████████████████| 1.6 MB 75.5 MB/s \n",
            "\u001b[K     |████████████████████████████████| 82 kB 1.1 MB/s \n",
            "\u001b[K     |████████████████████████████████| 1.1 MB 62.6 MB/s \n",
            "\u001b[?25h  Building wheel for probml-utils (PEP 517) ... \u001b[?25l\u001b[?25hdone\n",
            "  Building wheel for TexSoup (setup.py) ... \u001b[?25l\u001b[?25hdone\n",
            "  Building wheel for umap-learn (setup.py) ... \u001b[?25l\u001b[?25hdone\n",
            "  Building wheel for pynndescent (setup.py) ... \u001b[?25l\u001b[?25hdone\n"
          ]
        }
      ],
      "source": [
        "import jax\n",
        "import jax.numpy as jnp\n",
        "import matplotlib.pyplot as plt\n",
        "import seaborn as sns\n",
        "\n",
        "try:\n",
        "    from probml_utils import savefig, latexify\n",
        "except ModuleNotFoundError:\n",
        "    %pip install -qq git+https://github.com/probml/probml-utils.git\n",
        "    from probml_utils import savefig, latexify"
      ]
    },
    {
      "cell_type": "code",
      "execution_count": 4,
      "metadata": {
        "tags": [
          "hide-input"
        ],
        "id": "U6P6zbWG65Us",
        "outputId": "948f2e01-978a-4cb0-b111-26f5d94f56f6",
        "colab": {
          "base_uri": "https://localhost:8080/"
        }
      },
      "outputs": [
        {
          "output_type": "stream",
          "name": "stderr",
          "text": [
            "/usr/local/lib/python3.7/dist-packages/probml_utils/plotting.py:25: UserWarning: LATEXIFY environment variable not set, not latexifying\n",
            "  warnings.warn(\"LATEXIFY environment variable not set, not latexifying\")\n"
          ]
        }
      ],
      "source": [
        "latexify(width_scale_factor=2)"
      ]
    },
    {
      "cell_type": "code",
      "execution_count": 8,
      "metadata": {
        "id": "Izh0X-AK65Ut",
        "outputId": "09a7ece1-16ee-46d9-daa3-7477f49e1a7c",
        "colab": {
          "base_uri": "https://localhost:8080/",
          "height": 545
        }
      },
      "outputs": [
        {
          "output_type": "display_data",
          "data": {
            "text/plain": [
              "<Figure size 432x288 with 1 Axes>"
            ],
            "image/png": "[encoded data removed]"
          },
          "metadata": {
            "needs_background": "light"
          }
        },
        {
          "output_type": "display_data",
          "data": {
            "text/plain": [
              "<Figure size 432x288 with 1 Axes>"
            ],
            "image/png": "[encoded data removed]"
          },
          "metadata": {
            "needs_background": "light"
          }
        }
      ],
      "source": [
        "# Bar graphs showing a uniform discrete distribution and another with full mass on one value.\n",
        "\n",
        "N = 4\n",
        "\n",
        "\n",
        "def make_graph(probs, N, save_name, fig=None, ax=None):\n",
        "    x = jnp.arange(1, N + 1)\n",
        "    if fig is None:\n",
        "        fig, ax = plt.subplots()\n",
        "    ax.bar(x, probs, align=\"center\")\n",
        "    ax.set_xlim([min(x) - 0.5, max(x) + 0.5])\n",
        "    ax.set_xticks(x)\n",
        "    ax.set_yticks(jnp.linspace(0, 1, N + 1))\n",
        "    ax.set_xlabel(\"$x$\")\n",
        "    ax.set_ylabel(\"$Pr(X=x)$\")\n",
        "    sns.despine()\n",
        "    if len(save_name) > 0:\n",
        "        # savefig(save_name)\n",
        "        plt.savefig(f\"{images_dir}/{save_name}\")\n",
        "    return fig, ax\n",
        "\n",
        "\n",
        "uniform_probs = jnp.repeat(1.0 / N, N)\n",
        "_, _ = make_graph(\n",
        "    uniform_probs, N, \"uniform_histogram\"\n",
        ")  # Do not add .pdf or .png as it is automatically added by savefig method\n",
        "\n",
        "\n",
        "\n",
        "delta_probs = jnp.array([1, 0, 0, 0])\n",
        "_, _ = make_graph(delta_probs, N, \"delta_histogram\");"
      ]
    },
    {
      "cell_type": "markdown",
      "metadata": {
        "id": "E6sz_nK965Uv"
      },
      "source": [
        "## Demo\n",
        "\n",
        "You can see different examples of discrete distributions by changing the seed in the following demo."
      ]
    },
    {
      "cell_type": "code",
      "execution_count": 10,
      "metadata": {
        "id": "jlNGWX5P65Uv",
        "outputId": "5039ce9a-6742-484e-f6c1-881977c1c4fa",
        "colab": {
          "base_uri": "https://localhost:8080/",
          "height": 364,
          "referenced_widgets": [
            "d101de4810834806b91a55db0ca59698",
            "f81ad5b8c9af425fb3e9b0c274efb0d9",
            "b0d6738aa04d4f0eae8a5659e5da503b",
            "ac0df8f9ec0347ceaafec386c751d1b7",
            "a22a5c5e5c814ee4b670636f74207d86",
            "6b54a05018884341b7903c2bf4fccaba",
            "a918f6b564344876be341b3020556289",
            "6b09064dd1ba4941bb006ae23587ecb9",
            "c6d26879077d48fbb8ff48e0be8e0daa",
            "9a71053aedbb4a1cb2159e5d88212177"
          ]
        }
      },
      "outputs": [
        {
          "output_type": "display_data",
          "data": {
            "text/plain": [
              "interactive(children=(IntSlider(value=5, description='random_state', max=10, min=1), IntSlider(value=6, descri…"
            ],
            "application/vnd.jupyter.widget-view+json": {
              "version_major": 2,
              "version_minor": 0,
              "model_id": "d101de4810834806b91a55db0ca59698"
            }
          },
          "metadata": {}
        },
        {
          "output_type": "display_data",
          "data": {
            "text/plain": [
              "<Figure size 432x288 with 0 Axes>"
            ]
          },
          "metadata": {}
        }
      ],
      "source": [
        "from ipywidgets import interact\n",
        "\n",
        "\n",
        "@interact(random_state=(1, 10), N=(2, 10))\n",
        "def generate_random(random_state, N):\n",
        "    key = jax.random.PRNGKey(random_state)\n",
        "    probs = jax.random.uniform(key, shape=(N,))\n",
        "    probs = probs / jnp.sum(probs)\n",
        "    fig, ax = make_graph(probs, N, \"\")\n",
        "    ax.set_yticks(jnp.linspace(0, 1, 11))\n",
        "\n",
        "# plt.savefig(f\"{images_dir}/seed.png\")"
      ]
    },
    {
      "cell_type": "code",
      "source": [],
      "metadata": {
        "id": "7hWowQg1_w6f"
      },
      "execution_count": 9,
      "outputs": []
    }
  ],
  "metadata": {
    "interpreter": {
      "hash": "31f2aee4e71d21fbe5cf8b01ff0e069b9275f58929596ceb00d14d90e3e16cd6"
    },
    "kernelspec": {
      "display_name": "Python [conda env:pyprobml]",
      "language": "python",
      "name": "conda-env-pyprobml-py"
    },
    "language_info": {
      "codemirror_mode": {
        "name": "ipython",
        "version": 3
      },
      "file_extension": ".py",
      "mimetype": "text/x-python",
      "name": "python",
      "nbconvert_exporter": "python",
      "pygments_lexer": "ipython3",
      "version": "3.9.12"
    },
    "colab": {
      "provenance": []
    },
    "widgets": {
      "application/vnd.jupyter.widget-state+json": {
        "d101de4810834806b91a55db0ca59698": {
          "model_module": "@jupyter-widgets/controls",
          "model_name": "VBoxModel",
          "model_module_version": "1.5.0",
          "state": {
            "_dom_classes": [
              "widget-interact"
            ],
            "_model_module": "@jupyter-widgets/controls",
            "_model_module_version": "1.5.0",
            "_model_name": "VBoxModel",
            "_view_count": null,
            "_view_module": "@jupyter-widgets/controls",
            "_view_module_version": "1.5.0",
            "_view_name": "VBoxView",
            "box_style": "",
            "children": [
              "IPY_MODEL_f81ad5b8c9af425fb3e9b0c274efb0d9",
              "IPY_MODEL_b0d6738aa04d4f0eae8a5659e5da503b",
              "IPY_MODEL_ac0df8f9ec0347ceaafec386c751d1b7"
            ],
            "layout": "IPY_MODEL_a22a5c5e5c814ee4b670636f74207d86"
          }
        },
        "f81ad5b8c9af425fb3e9b0c274efb0d9": {
          "model_module": "@jupyter-widgets/controls",
          "model_name": "IntSliderModel",
          "model_module_version": "1.5.0",
          "state": {
            "_dom_classes": [],
            "_model_module": "@jupyter-widgets/controls",
            "_model_module_version": "1.5.0",
            "_model_name": "IntSliderModel",
            "_view_count": null,
            "_view_module": "@jupyter-widgets/controls",
            "_view_module_version": "1.5.0",
            "_view_name": "IntSliderView",
            "continuous_update": true,
            "description": "random_state",
            "description_tooltip": null,
            "disabled": false,
            "layout": "IPY_MODEL_6b54a05018884341b7903c2bf4fccaba",
            "max": 10,
            "min": 1,
            "orientation": "horizontal",
            "readout": true,
            "readout_format": "d",
            "step": 1,
            "style": "IPY_MODEL_a918f6b564344876be341b3020556289",
            "value": 1
          }
        },
        "b0d6738aa04d4f0eae8a5659e5da503b": {
          "model_module": "@jupyter-widgets/controls",
          "model_name": "IntSliderModel",
          "model_module_version": "1.5.0",
          "state": {
            "_dom_classes": [],
            "_model_module": "@jupyter-widgets/controls",
            "_model_module_version": "1.5.0",
            "_model_name": "IntSliderModel",
            "_view_count": null,
            "_view_module": "@jupyter-widgets/controls",
            "_view_module_version": "1.5.0",
            "_view_name": "IntSliderView",
            "continuous_update": true,
            "description": "N",
            "description_tooltip": null,
            "disabled": false,
            "layout": "IPY_MODEL_6b09064dd1ba4941bb006ae23587ecb9",
            "max": 10,
            "min": 2,
            "orientation": "horizontal",
            "readout": true,
            "readout_format": "d",
            "step": 1,
            "style": "IPY_MODEL_c6d26879077d48fbb8ff48e0be8e0daa",
            "value": 5
          }
        },
        "ac0df8f9ec0347ceaafec386c751d1b7": {
          "model_module": "@jupyter-widgets/output",
          "model_name": "OutputModel",
          "model_module_version": "1.0.0",
          "state": {
            "_dom_classes": [],
            "_model_module": "@jupyter-widgets/output",
            "_model_module_version": "1.0.0",
            "_model_name": "OutputModel",
            "_view_count": null,
            "_view_module": "@jupyter-widgets/output",
            "_view_module_version": "1.0.0",
            "_view_name": "OutputView",
            "layout": "IPY_MODEL_9a71053aedbb4a1cb2159e5d88212177",
            "msg_id": "",
            "outputs": [
              {
                "output_type": "display_data",
                "data": {
                  "text/plain": "<Figure size 432x288 with 1 Axes>",
                  "image/png": "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\n"
                },
                "metadata": {
                  "needs_background": "light"
                }
              }
            ]
          }
        },
        "a22a5c5e5c814ee4b670636f74207d86": {
          "model_module": "@jupyter-widgets/base",
          "model_name": "LayoutModel",
          "model_module_version": "1.2.0",
          "state": {
            "_model_module": "@jupyter-widgets/base",
            "_model_module_version": "1.2.0",
            "_model_name": "LayoutModel",
            "_view_count": null,
            "_view_module": "@jupyter-widgets/base",
            "_view_module_version": "1.2.0",
            "_view_name": "LayoutView",
            "align_content": null,
            "align_items": null,
            "align_self": null,
            "border": null,
            "bottom": null,
            "display": null,
            "flex": null,
            "flex_flow": null,
            "grid_area": null,
            "grid_auto_columns": null,
            "grid_auto_flow": null,
            "grid_auto_rows": null,
            "grid_column": null,
            "grid_gap": null,
            "grid_row": null,
            "grid_template_areas": null,
            "grid_template_columns": null,
            "grid_template_rows": null,
            "height": null,
            "justify_content": null,
            "justify_items": null,
            "left": null,
            "margin": null,
            "max_height": null,
            "max_width": null,
            "min_height": null,
            "min_width": null,
            "object_fit": null,
            "object_position": null,
            "order": null,
            "overflow": null,
            "overflow_x": null,
            "overflow_y": null,
            "padding": null,
            "right": null,
            "top": null,
            "visibility": null,
            "width": null
          }
        },
        "6b54a05018884341b7903c2bf4fccaba": {
          "model_module": "@jupyter-widgets/base",
          "model_name": "LayoutModel",
          "model_module_version": "1.2.0",
          "state": {
            "_model_module": "@jupyter-widgets/base",
            "_model_module_version": "1.2.0",
            "_model_name": "LayoutModel",
            "_view_count": null,
            "_view_module": "@jupyter-widgets/base",
            "_view_module_version": "1.2.0",
            "_view_name": "LayoutView",
            "align_content": null,
            "align_items": null,
            "align_self": null,
            "border": null,
            "bottom": null,
            "display": null,
            "flex": null,
            "flex_flow": null,
            "grid_area": null,
            "grid_auto_columns": null,
            "grid_auto_flow": null,
            "grid_auto_rows": null,
            "grid_column": null,
            "grid_gap": null,
            "grid_row": null,
            "grid_template_areas": null,
            "grid_template_columns": null,
            "grid_template_rows": null,
            "height": null,
            "justify_content": null,
            "justify_items": null,
            "left": null,
            "margin": null,
            "max_height": null,
            "max_width": null,
            "min_height": null,
            "min_width": null,
            "object_fit": null,
            "object_position": null,
            "order": null,
            "overflow": null,
            "overflow_x": null,
            "overflow_y": null,
            "padding": null,
            "right": null,
            "top": null,
            "visibility": null,
            "width": null
          }
        },
        "a918f6b564344876be341b3020556289": {
          "model_module": "@jupyter-widgets/controls",
          "model_name": "SliderStyleModel",
          "model_module_version": "1.5.0",
          "state": {
            "_model_module": "@jupyter-widgets/controls",
            "_model_module_version": "1.5.0",
            "_model_name": "SliderStyleModel",
            "_view_count": null,
            "_view_module": "@jupyter-widgets/base",
            "_view_module_version": "1.2.0",
            "_view_name": "StyleView",
            "description_width": "",
            "handle_color": null
          }
        },
        "6b09064dd1ba4941bb006ae23587ecb9": {
          "model_module": "@jupyter-widgets/base",
          "model_name": "LayoutModel",
          "model_module_version": "1.2.0",
          "state": {
            "_model_module": "@jupyter-widgets/base",
            "_model_module_version": "1.2.0",
            "_model_name": "LayoutModel",
            "_view_count": null,
            "_view_module": "@jupyter-widgets/base",
            "_view_module_version": "1.2.0",
            "_view_name": "LayoutView",
            "align_content": null,
            "align_items": null,
            "align_self": null,
            "border": null,
            "bottom": null,
            "display": null,
            "flex": null,
            "flex_flow": null,
            "grid_area": null,
            "grid_auto_columns": null,
            "grid_auto_flow": null,
            "grid_auto_rows": null,
            "grid_column": null,
            "grid_gap": null,
            "grid_row": null,
            "grid_template_areas": null,
            "grid_template_columns": null,
            "grid_template_rows": null,
            "height": null,
            "justify_content": null,
            "justify_items": null,
            "left": null,
            "margin": null,
            "max_height": null,
            "max_width": null,
            "min_height": null,
            "min_width": null,
            "object_fit": null,
            "object_position": null,
            "order": null,
            "overflow": null,
            "overflow_x": null,
            "overflow_y": null,
            "padding": null,
            "right": null,
            "top": null,
            "visibility": null,
            "width": null
          }
        },
        "c6d26879077d48fbb8ff48e0be8e0daa": {
          "model_module": "@jupyter-widgets/controls",
          "model_name": "SliderStyleModel",
          "model_module_version": "1.5.0",
          "state": {
            "_model_module": "@jupyter-widgets/controls",
            "_model_module_version": "1.5.0",
            "_model_name": "SliderStyleModel",
            "_view_count": null,
            "_view_module": "@jupyter-widgets/base",
            "_view_module_version": "1.2.0",
            "_view_name": "StyleView",
            "description_width": "",
            "handle_color": null
          }
        },
        "9a71053aedbb4a1cb2159e5d88212177": {
          "model_module": "@jupyter-widgets/base",
          "model_name": "LayoutModel",
          "model_module_version": "1.2.0",
          "state": {
            "_model_module": "@jupyter-widgets/base",
            "_model_module_version": "1.2.0",
            "_model_name": "LayoutModel",
            "_view_count": null,
            "_view_module": "@jupyter-widgets/base",
            "_view_module_version": "1.2.0",
            "_view_name": "LayoutView",
            "align_content": null,
            "align_items": null,
            "align_self": null,
            "border": null,
            "bottom": null,
            "display": null,
            "flex": null,
            "flex_flow": null,
            "grid_area": null,
            "grid_auto_columns": null,
            "grid_auto_flow": null,
            "grid_auto_rows": null,
            "grid_column": null,
            "grid_gap": null,
            "grid_row": null,
            "grid_template_areas": null,
            "grid_template_columns": null,
            "grid_template_rows": null,
            "height": null,
            "justify_content": null,
            "justify_items": null,
            "left": null,
            "margin": null,
            "max_height": null,
            "max_width": null,
            "min_height": null,
            "min_width": null,
            "object_fit": null,
            "object_position": null,
            "order": null,
            "overflow": null,
            "overflow_x": null,
            "overflow_y": null,
            "padding": null,
            "right": null,
            "top": null,
            "visibility": null,
            "width": null
          }
        }
      }
    }
  },
  "nbformat": 4,
  "nbformat_minor": 0
}