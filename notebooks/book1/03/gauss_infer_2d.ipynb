{
  "cells": [
    {
      "cell_type": "code",
      "source": [
        "from google.colab import drive\n",
        "drive.mount(\"/content/drive\")"
      ],
      "metadata": {
        "id": "4W8zZR8geIIw",
        "outputId": "29d330c1-3b53-4250-9a96-964bb4d200a7",
        "colab": {
          "base_uri": "https://localhost:8080/"
        }
      },
      "execution_count": 1,
      "outputs": [
        {
          "output_type": "stream",
          "name": "stdout",
          "text": [
            "Mounted at /content/drive\n"
          ]
        }
      ]
    },
    {
      "cell_type": "code",
      "source": [
        "images_dir = '/content/drive/MyDrive/AdvancedML/Homework1/Fig3.9/'"
      ],
      "metadata": {
        "id": "ZyopR9ZYeJjp"
      },
      "execution_count": 2,
      "outputs": []
    },
    {
      "cell_type": "markdown",
      "metadata": {
        "id": "kV8dt83JzN1n"
      },
      "source": [
        "# Illustration of Bayesian inference for a 2d Gaussian random vector z"
      ]
    },
    {
      "cell_type": "markdown",
      "metadata": {
        "id": "wB037kg4jb-F"
      },
      "source": [
        "### Importing probml_utils library"
      ]
    },
    {
      "cell_type": "code",
      "execution_count": 3,
      "metadata": {
        "colab": {
          "base_uri": "https://localhost:8080/"
        },
        "id": "hMylJdjIulS_",
        "outputId": "18de2ad8-591a-433d-8977-87600b4b207c"
      },
      "outputs": [
        {
          "output_type": "stream",
          "name": "stdout",
          "text": [
            "  Installing build dependencies ... \u001b[?25l\u001b[?25hdone\n",
            "  Getting requirements to build wheel ... \u001b[?25l\u001b[?25hdone\n",
            "    Preparing wheel metadata ... \u001b[?25l\u001b[?25hdone\n",
            "\u001b[K     |████████████████████████████████| 88 kB 2.0 MB/s \n",
            "\u001b[K     |████████████████████████████████| 128 kB 10.9 MB/s \n",
            "\u001b[K     |████████████████████████████████| 272 kB 23.3 MB/s \n",
            "\u001b[K     |████████████████████████████████| 85 kB 3.6 MB/s \n",
            "\u001b[K     |████████████████████████████████| 120 kB 59.4 MB/s \n",
            "\u001b[K     |████████████████████████████████| 1.6 MB 50.8 MB/s \n",
            "\u001b[K     |████████████████████████████████| 82 kB 863 kB/s \n",
            "\u001b[K     |████████████████████████████████| 1.1 MB 37.7 MB/s \n",
            "\u001b[?25h  Building wheel for probml-utils (PEP 517) ... \u001b[?25l\u001b[?25hdone\n",
            "  Building wheel for TexSoup (setup.py) ... \u001b[?25l\u001b[?25hdone\n",
            "  Building wheel for umap-learn (setup.py) ... \u001b[?25l\u001b[?25hdone\n",
            "  Building wheel for pynndescent (setup.py) ... \u001b[?25l\u001b[?25hdone\n"
          ]
        }
      ],
      "source": [
        "try:\n",
        "    from probml_utils import savefig, latexify, is_latexify_enabled\n",
        "except ModuleNotFoundError:\n",
        "    %pip install -qq git+https://github.com/probml/probml-utils.git\n",
        "    from probml_utils import savefig, latexify, is_latexify_enabled"
      ]
    },
    {
      "cell_type": "markdown",
      "metadata": {
        "id": "Aj_ZHIYvjhlr"
      },
      "source": [
        "### Importing other libraries"
      ]
    },
    {
      "cell_type": "code",
      "execution_count": 4,
      "metadata": {
        "id": "8fd_Z7xcdxmB"
      },
      "outputs": [],
      "source": [
        "import jax\n",
        "import jax.numpy as jnp\n",
        "import matplotlib.pyplot as plt\n",
        "import seaborn as sns\n",
        "from jax.numpy.linalg import cholesky\n",
        "from jax.scipy.linalg import inv\n",
        "from scipy.stats import multivariate_normal"
      ]
    },
    {
      "cell_type": "markdown",
      "metadata": {
        "id": "NsqugWFnjmVM"
      },
      "source": [
        "### Set latexify params"
      ]
    },
    {
      "cell_type": "code",
      "execution_count": 5,
      "metadata": {
        "colab": {
          "base_uri": "https://localhost:8080/"
        },
        "id": "g-gO9CA6xwnF",
        "outputId": "0072e3ac-3eb5-4162-d88d-c51d503afa38"
      },
      "outputs": [
        {
          "output_type": "stream",
          "name": "stderr",
          "text": [
            "/usr/local/lib/python3.7/dist-packages/probml_utils/plotting.py:25: UserWarning: LATEXIFY environment variable not set, not latexifying\n",
            "  warnings.warn(\"LATEXIFY environment variable not set, not latexifying\")\n"
          ]
        }
      ],
      "source": [
        "latexify(width_scale_factor=3, fig_height=1.5)"
      ]
    },
    {
      "cell_type": "markdown",
      "metadata": {
        "id": "veI4lwHNjrPd"
      },
      "source": [
        "### Function declarations"
      ]
    },
    {
      "cell_type": "code",
      "execution_count": 6,
      "metadata": {
        "id": "Ve8rzQiw4Eui"
      },
      "outputs": [],
      "source": [
        "def gaussSample(mu, sigma, n, key):\n",
        "    decomposition = cholesky(sigma)\n",
        "    normal_distribution = jax.random.normal(key, shape=(len(mu), n))\n",
        "    return jnp.dot(decomposition, normal_distribution).T + mu"
      ]
    },
    {
      "cell_type": "code",
      "execution_count": 7,
      "metadata": {
        "id": "7dnfhg7h31p1"
      },
      "outputs": [],
      "source": [
        "def plot_data(x, muTrue, savename, title, fig=None, ax=None):\n",
        "    marker_size = 4 if is_latexify_enabled() else None\n",
        "    if ax is None:\n",
        "        fig, ax = plt.subplots()\n",
        "    ax.plot(x[:, 0], x[:, 1], \"o\", markerfacecolor=\"b\")\n",
        "    ax.set_ylim([-1, 1])\n",
        "    # ax.set_xlim([-1, 1])\n",
        "    ax.set_title(title)\n",
        "    ax.set_xlabel(\"$y_1$\")\n",
        "    ax.set_ylabel(\"$y_2$\")\n",
        "    ax.plot(muTrue[0], muTrue[1], \"x\", markerfacecolor=\"black\", color=\"k\")\n",
        "\n",
        "    sns.despine()\n",
        "    if len(savename) > 0:\n",
        "        # savefig(savename)\n",
        "        plt.savefig(f\"{images_dir}/{savename}.png\")\n",
        "    return fig, ax"
      ]
    },
    {
      "cell_type": "code",
      "execution_count": 8,
      "metadata": {
        "id": "ATOm8injxRGb"
      },
      "outputs": [],
      "source": [
        "def make_contour_plot(x1, x2, p, savename, title, fig=None, ax=None):\n",
        "    if ax is None:\n",
        "        fig, ax = plt.subplots()\n",
        "    contour = ax.contourf(x1, x2, p)\n",
        "    cbar = fig.colorbar(contour, ax=ax)\n",
        "    cbar.set_ticks(jnp.linspace(p.min(), p.max(), 4))\n",
        "\n",
        "    ax.set_ylim([-1, 1])\n",
        "    ax.set_xlim([-1, 1])\n",
        "    ax.set_title(title)\n",
        "    ax.set_xlabel(\"$z_1$\")\n",
        "    ax.set_ylabel(\"$z_2$\")\n",
        "    plt.gca().set_aspect(\"equal\")\n",
        "    sns.despine()\n",
        "    if len(savename) > 0:\n",
        "        # savefig(savename, tight_bbox=True)\n",
        "        plt.savefig(f\"{images_dir}/{savename}.png\", tight_bbox=True)\n",
        "    return fig, ax"
      ]
    },
    {
      "cell_type": "code",
      "execution_count": 9,
      "metadata": {
        "colab": {
          "base_uri": "https://localhost:8080/",
          "height": 929
        },
        "id": "A-zIn0L_yaAj",
        "outputId": "80bff993-7bbb-4766-d3ef-4857127db98b"
      },
      "outputs": [
        {
          "output_type": "stream",
          "name": "stderr",
          "text": [
            "WARNING:absl:No GPU/TPU found, falling back to CPU. (Set TF_CPP_MIN_LOG_LEVEL=0 and rerun for more info.)\n"
          ]
        },
        {
          "output_type": "execute_result",
          "data": {
            "text/plain": [
              "(<Figure size 432x288 with 2 Axes>,\n",
              " <matplotlib.axes._subplots.AxesSubplot at 0x7fb481d08950>)"
            ]
          },
          "metadata": {},
          "execution_count": 9
        },
        {
          "output_type": "display_data",
          "data": {
            "text/plain": [
              "<Figure size 432x288 with 1 Axes>"
            ],
            "image/png": "[encoded data removed]"
          },
          "metadata": {
            "needs_background": "light"
          }
        },
        {
          "output_type": "display_data",
          "data": {
            "text/plain": [
              "<Figure size 432x288 with 2 Axes>"
            ],
            "image/png": "[encoded data removed]"
          },
          "metadata": {
            "needs_background": "light"
          }
        },
        {
          "output_type": "display_data",
          "data": {
            "text/plain": [
              "<Figure size 432x288 with 2 Axes>"
            ],
            "image/png": "[encoded data removed]"
          },
          "metadata": {
            "needs_background": "light"
          }
        }
      ],
      "source": [
        "data = {}\n",
        "prior = {}\n",
        "post = {}\n",
        "key = jax.random.PRNGKey(5)\n",
        "\n",
        "n_points = 10  # number of sample data points\n",
        "\n",
        "# Part A\n",
        "z = jnp.array([0.5, 0.5])\n",
        "sigma_data = 0.1 * jnp.array([[2, 1], [1, 1]])\n",
        "\n",
        "data[\"mu\"] = z\n",
        "data[\"Sigma\"] = sigma_data\n",
        "sample_points = gaussSample(data[\"mu\"], data[\"Sigma\"], n_points, key)\n",
        "plot_data(sample_points, z, \"gauss_2d_update_data\", \"Data\")\n",
        "\n",
        "# Part B\n",
        "xyrange = jnp.array([[-1, 1], [-1, 1]])\n",
        "npoints = 100j\n",
        "prior[\"mu\"] = jnp.array([0, 0])\n",
        "prior[\"Sigma\"] = 0.1 * jnp.eye(2)\n",
        "mesh = jnp.mgrid[xyrange[0, 0] : xyrange[0, 1] : npoints, xyrange[1, 0] : xyrange[1, 1] : npoints]\n",
        "x1, x2 = mesh[0], mesh[1]\n",
        "points = jnp.vstack([jnp.ravel(x1), jnp.ravel(x2)]).T\n",
        "prior_pdf = multivariate_normal.pdf(points, mean=prior[\"mu\"], cov=prior[\"Sigma\"]).reshape(x1.shape[0], x2.shape[0])\n",
        "\n",
        "make_contour_plot(x1, x2, prior_pdf, \"gauss_2d_update_prior\", \"Prior\")\n",
        "\n",
        "# Part C\n",
        "data_after_n = sample_points[:n_points, :]\n",
        "s0_inv = inv(prior[\"Sigma\"])\n",
        "s_inv = inv(sigma_data)\n",
        "post[\"Sigma\"] = inv(s0_inv + n_points * s_inv)\n",
        "mean = jnp.mean(data_after_n, 0)\n",
        "post[\"mu\"] = jnp.dot(post[\"Sigma\"], (jnp.dot(n_points, jnp.dot(s_inv, mean)) + jnp.dot(s0_inv, prior[\"mu\"])))\n",
        "post_pdf = multivariate_normal.pdf(points, mean=post[\"mu\"], cov=post[\"Sigma\"]).reshape(x1.shape[0], x2.shape[0])\n",
        "make_contour_plot(x1, x2, post_pdf, \"gauss_2d_update_post\", \"Posterior after \" + str(n_points) + \" points\")"
      ]
    },
    {
      "cell_type": "code",
      "execution_count": 10,
      "metadata": {
        "colab": {
          "base_uri": "https://localhost:8080/",
          "height": 298
        },
        "id": "j7lS5tD4byLk",
        "outputId": "70d70f9f-2419-41d7-d182-6a976ce93f28"
      },
      "outputs": [
        {
          "output_type": "display_data",
          "data": {
            "text/plain": [
              "<Figure size 1080x360 with 5 Axes>"
            ],
            "image/png": "[encoded data removed]"
          },
          "metadata": {
            "needs_background": "light"
          }
        }
      ],
      "source": [
        "fig, (ax1, ax2, ax3) = plt.subplots(1, 3, figsize=(15, 5))\n",
        "plot_data(sample_points, z, \"\", \"Data \", fig=fig, ax=ax1)\n",
        "make_contour_plot(x1, x2, prior_pdf, \"\", \"Prior \", fig=fig, ax=ax2)\n",
        "make_contour_plot(x1, x2, post_pdf, \"\", \"Posterior after \" + str(n_points) + \" points\", fig=fig, ax=ax3)\n",
        "plt.show()"
      ]
    },
    {
      "cell_type": "markdown",
      "metadata": {
        "id": "ZGHdlkChkEOM"
      },
      "source": [
        "### Interactive plot"
      ]
    },
    {
      "cell_type": "code",
      "execution_count": 11,
      "metadata": {
        "colab": {
          "base_uri": "https://localhost:8080/",
          "height": 361,
          "referenced_widgets": [
            "c3f0a3bdd69a445e83560b869138fdc8",
            "bb58a6d3a86c420b996adee688094730",
            "3dc8aab85ebc44ca991235f41cc98c6f",
            "8cecb8d2ed8745678dc33faa5f0748c6",
            "527f8e5ac7c44051ad6a1e7849ea5675",
            "2176e25b657a490fb81724eb2f924b29",
            "0274d8a003f544ddbe4f8c291a615193",
            "ee3ccd826a744f8ca67d4f73af79938a",
            "3c0a02c7f90b4f83a3f1ced992a59339",
            "a061ac7b04ad4901a78e3897d3ce2185"
          ]
        },
        "id": "SV_IOj6wJRAq",
        "outputId": "b010d163-f170-4e5b-a6bb-007c41fc6d2c"
      },
      "outputs": [
        {
          "output_type": "display_data",
          "data": {
            "text/plain": [
              "interactive(children=(IntSlider(value=5, description='random_state', max=10, min=1), IntSlider(value=10, descr…"
            ],
            "application/vnd.jupyter.widget-view+json": {
              "version_major": 2,
              "version_minor": 0,
              "model_id": "c3f0a3bdd69a445e83560b869138fdc8"
            }
          },
          "metadata": {}
        }
      ],
      "source": [
        "from ipywidgets import interact\n",
        "\n",
        "\n",
        "@interact(random_state=(1, 10), n_=(1, 20))\n",
        "def generate_random(random_state, n_=10):\n",
        "    key = jax.random.PRNGKey(random_state)\n",
        "    sample_points = gaussSample(data[\"mu\"], data[\"Sigma\"], n_, key)\n",
        "    plot_data(sample_points, z, \"\", \"Data\")\n",
        "    plt.show()"
      ]
    },
    {
      "cell_type": "code",
      "source": [],
      "metadata": {
        "id": "KPMN-kjtf2Wz"
      },
      "execution_count": null,
      "outputs": []
    }
  ],
  "metadata": {
    "colab": {
      "collapsed_sections": [],
      "name": "gauss_infer_2d.ipynb",
      "provenance": []
    },
    "kernelspec": {
      "display_name": "Python 3.7.13 ('py3713')",
      "language": "python",
      "name": "python3"
    },
    "language_info": {
      "codemirror_mode": {
        "name": "ipython",
        "version": 3
      },
      "file_extension": ".py",
      "mimetype": "text/x-python",
      "name": "python",
      "nbconvert_exporter": "python",
      "pygments_lexer": "ipython3",
      "version": "3.7.13"
    },
    "vscode": {
      "interpreter": {
        "hash": "a787a6e8bcd3d3d3e4a766006c27db2c5a636d1b43e1d89cd16234e9a9c2591c"
      }
    },
    "widgets": {
      "application/vnd.jupyter.widget-state+json": {
        "c3f0a3bdd69a445e83560b869138fdc8": {
          "model_module": "@jupyter-widgets/controls",
          "model_name": "VBoxModel",
          "model_module_version": "1.5.0",
          "state": {
            "_dom_classes": [
              "widget-interact"
            ],
            "_model_module": "@jupyter-widgets/controls",
            "_model_module_version": "1.5.0",
            "_model_name": "VBoxModel",
            "_view_count": null,
            "_view_module": "@jupyter-widgets/controls",
            "_view_module_version": "1.5.0",
            "_view_name": "VBoxView",
            "box_style": "",
            "children": [
              "IPY_MODEL_bb58a6d3a86c420b996adee688094730",
              "IPY_MODEL_3dc8aab85ebc44ca991235f41cc98c6f",
              "IPY_MODEL_8cecb8d2ed8745678dc33faa5f0748c6"
            ],
            "layout": "IPY_MODEL_527f8e5ac7c44051ad6a1e7849ea5675"
          }
        },
        "bb58a6d3a86c420b996adee688094730": {
          "model_module": "@jupyter-widgets/controls",
          "model_name": "IntSliderModel",
          "model_module_version": "1.5.0",
          "state": {
            "_dom_classes": [],
            "_model_module": "@jupyter-widgets/controls",
            "_model_module_version": "1.5.0",
            "_model_name": "IntSliderModel",
            "_view_count": null,
            "_view_module": "@jupyter-widgets/controls",
            "_view_module_version": "1.5.0",
            "_view_name": "IntSliderView",
            "continuous_update": true,
            "description": "random_state",
            "description_tooltip": null,
            "disabled": false,
            "layout": "IPY_MODEL_2176e25b657a490fb81724eb2f924b29",
            "max": 10,
            "min": 1,
            "orientation": "horizontal",
            "readout": true,
            "readout_format": "d",
            "step": 1,
            "style": "IPY_MODEL_0274d8a003f544ddbe4f8c291a615193",
            "value": 5
          }
        },
        "3dc8aab85ebc44ca991235f41cc98c6f": {
          "model_module": "@jupyter-widgets/controls",
          "model_name": "IntSliderModel",
          "model_module_version": "1.5.0",
          "state": {
            "_dom_classes": [],
            "_model_module": "@jupyter-widgets/controls",
            "_model_module_version": "1.5.0",
            "_model_name": "IntSliderModel",
            "_view_count": null,
            "_view_module": "@jupyter-widgets/controls",
            "_view_module_version": "1.5.0",
            "_view_name": "IntSliderView",
            "continuous_update": true,
            "description": "n_",
            "description_tooltip": null,
            "disabled": false,
            "layout": "IPY_MODEL_ee3ccd826a744f8ca67d4f73af79938a",
            "max": 20,
            "min": 1,
            "orientation": "horizontal",
            "readout": true,
            "readout_format": "d",
            "step": 1,
            "style": "IPY_MODEL_3c0a02c7f90b4f83a3f1ced992a59339",
            "value": 10
          }
        },
        "8cecb8d2ed8745678dc33faa5f0748c6": {
          "model_module": "@jupyter-widgets/output",
          "model_name": "OutputModel",
          "model_module_version": "1.0.0",
          "state": {
            "_dom_classes": [],
            "_model_module": "@jupyter-widgets/output",
            "_model_module_version": "1.0.0",
            "_model_name": "OutputModel",
            "_view_count": null,
            "_view_module": "@jupyter-widgets/output",
            "_view_module_version": "1.0.0",
            "_view_name": "OutputView",
            "layout": "IPY_MODEL_a061ac7b04ad4901a78e3897d3ce2185",
            "msg_id": "",
            "outputs": [
              {
                "output_type": "display_data",
                "data": {
                  "text/plain": "<Figure size 432x288 with 1 Axes>",
                  "image/png": "iVBORw0KGgoAAAANSUhEUgAAAZIAAAEYCAYAAAB2qXBEAAAABHNCSVQICAgIfAhkiAAAAAlwSFlzAAALEgAACxIB0t1+/AAAADh0RVh0U29mdHdhcmUAbWF0cGxvdGxpYiB2ZXJzaW9uMy4yLjIsIGh0dHA6Ly9tYXRwbG90bGliLm9yZy+WH4yJAAAcdklEQVR4nO3df5RcZZ3n8fcHMK3ZqEmMS2KaxjDJosFhEy1g0FkxDELQDcksbAyzjHFkTkZ29MzKURLkIJ44rAlzdnFnho1mAUV0wQjHkAwqE0LAsyPB9BpM6GhIE9jQbSKBJoyZOO1AvvtHPQ2326r+kVtVtzr9eZ1Tp+597nNvffumOp++96l7SxGBmZnZsTqh6ALMzGx0c5CYmVkuDhIzM8vFQWJmZrk4SMzMLBcHiZmZ5eIgMTOzXBwkZnUi6RlJv5b0K0mHJP1I0ickDfl7J+ntkkLSSY2o1SwPB4lZfS2IiDcCpwKrgOXAbcWWZFZbDhKzBoiIlyJiA/ARYKmkd0n6sKTtkv5R0rOSvpBZ5Yfp+ZCkw5LOlfQ7kh6S9IKk5yV9S9LEhv8wZgM4SMwaKCJ+DHQB/w74J+CjwETgw8BVkhalru9PzxMjYkJEPAoI+BLwNuCdwCnAFxpXvVllDhKzxvsFMDkiHo6InRFxNCJ2AHcB51VbKSI6I2JTRPRGxEHgvw/W36xRPJBn1njTgR5J51AeN3kXMA5oAb5TbSVJJwP/g/LRzBsp/yH4Yt2rNRuCj0jMGkjSWZSD5P8A/xvYAJwSEW8GvkL59BVApdty/9fU/rsR8Sbgikx/s8I4SMwaQNKbJP174G7gmxGxk/JRRU9E/LOks4E/yqxyEDgKnJZpeyNwGHhJ0nTgs42p3mxw8veRmNWHpGeAk4GXKYfCLuCbwFci4hVJlwH/DZgMPAI8Q3lw/Yq0/krgKuB1wHzgV8A3gNOBTuBO4NMR0dq4n8rstzlIzMwsF5/aMjOzXJoiSCTdLuk5SU9UWS5Jfy2pU9IOSe/OLFsqaU96LG1c1WZmBk0SJMDXKZ8DruZiYFZ6LAPWAEiaDNwAnAOcDdwgaVJdKzUzs36aIkgi4odAzyBdFgLfiLKtwERJ04CLgE0R0RMRLwKbGDyQzMysxkbLBYnTgWcz812prVr7b5G0jPLRDLNnz35PR0dHfSo1Mzt+VbxuqSmOSBohItZGRCkiSm94wxuKLsfM7LgxWoKkm/IN6vq0prZq7WZm1iCjJUg2AB9Nn976PeCliNgPPABcKGlSGmS/MLWZmVmDNMUYiaS7gA8AUyR1Uf4k1usAIuIrwPeAD1G+mvcI8CdpWY+kLwLb0qZWRsRgg/ZmZlZjY/LK9lKpFO3t7UWXYWY22oztwXYzM6sPB4mZmeXiIDEzs1wcJGZmlouDxMzMcnGQmJlZLg4SMzPLxUFiZma5OEjMzCwXB4mZmeXiIDEzs1wcJGZmlouDxMzMcmmK28ibmVn9rN/ezeqNnRw4cpip4yewfMFMFs2t+K3kx8RBYpZDvX9BzfJav72ba+7czb57z6S3azL7W3u45tAOgJq9Vx0kZseoEb+gZnmt3thZfo/umwJA774p7Lv3TFZP7KjZ+9RjJGbHqN8v6NETXvsF3dhZdGlmrzpw5DC9XZP7tfV2TebAkcM1ew0HidkxasQvqFleU8dPoKW1/zeQt7T2MHX8hJq9RlMEiaT5knZL6pS0osLymyU9nh5PSjqUWfZKZtmGxlZuY1kjfkHN8lq+YCZtl+6gpe15OOEoLW3P03bpDpYvmFmz1yh8jETSicAtwAeBLmCbpA0RsauvT0R8OtP/U8DczCZ+HRFzGlWvWZ/lC2ZyzaEdr46RtLT2pF/Q04suzexVfeMgqyd2ZD4Ucvpx96mts4HOiNgLIOluYCGwq0r/y4EbGlSbWVWN+AU1q4VFc6fX9X3ZDEEyHXg2M98FnFOpo6RTgRnAQ5nm10tqB14GVkXE+noVajZQvX9BzUaDZgiSkVgC3BMRr2TaTo2IbkmnAQ9J2hkRTw1cUdIyYBlAW1tbY6o1MxsDmmGwvRs4JTPfmtoqWQLclW2IiO70vBd4mP7jJ9l+ayOiFBGlt771rXlrNjOzpBmCZBswS9IMSeMoh8VvffpK0juAScCjmbZJklrS9BTgfVQfWzEzszoo/NRWRLws6ZPAA8CJwO0R0SFpJdAeEX2hsgS4OyIis/o7ga9KOko5FFdlP+1lZmb1p/7/L48NpVIp2tvbiy7DzGy0UaXGZji1ZWZmo5iDxMzMcnGQmJlZLg4SMzPLxUFiZma5OEjMzCwXB4mZmeVS+AWJZtZ8/F30NhIOEjPrx99FbyPlU1tm1o+/i95GykFiZv34u+htpBwkZtaPv4veRspBYtZA67d3c+7KR5ix4n7OXfkI67dX++qd4ixfMJO2S3fQ0vY8nHCUlrbn03fRzyy6NGtSHmw3a5DRMojt76K3kfJt5M0a5NyVj7D9tjPKg9hJS9vzzL2yg0c/f16BlZkNW8XbyPuIxKxBaj2I7Ws9rFk4SMwaZOr4Cexv7el/RHKMg9ij5TTZ8c5hXuYgMWuQ5Qtmcs2hHa/+59/S2pMGsU8f8bb6XesBr13rMbFjTP5HVgSH+WscJGYNUstBbF/rUTyH+Wua4uO/kuZL2i2pU9KKCss/JumgpMfT408zy5ZK2pMeSxtbuY0lN910E1u2bOnXtmXLFm666aZhb2PR3Ok8+vnzeHrVh3n08+cd8384vtajeA7z1xQeJJJOBG4BLgZmA5dLml2h67cjYk563JrWnQzcAJwDnA3cIGlSg0q3Meass85i8eLFr4bJli1bWLx4MWeddVbDa/G1HsVzmL+mGU5tnQ10RsReAEl3AwuBXcNY9yJgU0T0pHU3AfOBu+pUq41h8+bNY926dSxevJirrrqKNWvWsG7dOubNm9fwWnytR/FqOeY12jVDkEwHns3Md1E+whjoUknvB54EPh0Rz1ZZt+JvkqRlwDKAtra2GpRtY9G8efO46qqr+OIXv8j1119fSIj0WTR3uoOjQA7z1zRDkAzHRuCuiOiV9GfAHcD5I9lARKwF1kL5gsTal2hjwZYtW1izZg3XX389a9asYd68eYWGiRXLYV5W+BgJ0A2ckplvTW2viogXIqI3zd4KvGe465rVSt+YyLp161i5cuWrp7kGDsCbjTXNECTbgFmSZkgaBywBNmQ7SJqWmb0E+FmafgC4UNKkNMh+YWozq7lt27b1GxPpGzPZtm1bwZWZFasp7rUl6UPAl4ETgdsj4kZJK4H2iNgg6UuUA+RloAe4KiJ+ntb9OPC5tKkbI+JrQ72e77VlZnZMKt5rqymCpNEcJGZmx6RikDTDqS0zMxvFHCRmZpaLg8TMzHJxkJiZWS4OEjMzy8VBYmZmuThIzMwsFweJmZnl4iAxM7NcHCRmZpaLg8TMzHJxkJiZWS4OEjMzy8VBYmZmuThIzMwsl9Hyne02hqzf3s3qjZ0cOHKYqeMnsHzBTH8vtlkTc5BYU1m/vZtr7tzNvnvPpLdrMvtbe7jm0A4Ah4lZk/KpLWsqqzd2lkNk3xQ4egK9+6aw794zWb2xs+jSzKyKpggSSfMl7ZbUKWlFheVXS9olaYekzZJOzSx7RdLj6bGhsZVbrR04cpjersn92nq7JnPgyOGCKjKzoRQeJJJOBG4BLgZmA5dLmj2g23agFBFnAvcAN2WW/Toi5qTHJQ0p2upm6vgJtLT29Gtrae1h6vgJBVVkZkMpPEiAs4HOiNgbEb8B7gYWZjtExJaIOJJmtwKtDa7RGmT5gpm0XbqDlrbn4YSjtLQ9T9ulO1i+YGbRpZlZFc0w2D4deDYz3wWcM0j/K4HvZ+ZfL6kdeBlYFRHrK60kaRmwDKCtrS1XwVY/fQPqqyd2ZD61dboH2s2aWDMEybBJugIoAedlmk+NiG5JpwEPSdoZEU8NXDci1gJrAUqlUjSkYDsmi+ZOd3CYjSLNcGqrGzglM9+a2vqRdAFwHXBJRPT2tUdEd3reCzwMzK1nsWZm1l8zHJFsA2ZJmkE5QJYAf5TtIGku8FVgfkQ8l2mfBByJiF5JU4D30X8g3qyp+eJLOx4UHiQR8bKkTwIPACcCt0dEh6SVQHtEbAD+CpgAfEcSwL70Ca13Al+VdJTy0dWqiNhVyA9iNkK++NKOF4oYe8MFpVIp2tvbiy7DxrhzVz7C9tvOKF98mbS0Pc/cKzt49PPnDbKmWWFUqbEZxkjMxiRffGnHCweJWUF88aUdLxwkZgXxxZd2vCh8sN1srPLFl3a8cJCYFcgXX9rxwKe2zMwsFweJmZnl4iAxM7NcHCRmZpaLg8TMzHJxkJiZWS4OEjMzy8VBYmZmuThIzMwsFweJmZnl4iAxM7NcfK8ta3r+Olqz5uYgsabmr6M1a37DPrUl6YOS/pekOWl+Wa2KkDRf0m5JnZJWVFjeIunbafljkt6eWXZtat8t6aJa1WTNYfXGznKI7JsCR0+gd98U9t17Jqs3dhZdmpklIxkj+TjwWeAKSecDc2pRgKQTgVuAi4HZwOWSZg/odiXwYkTMBG4GVqd1ZwNLgDOA+cD/TNuz44S/jtas+Y0kSH4VEYci4jPAhcBZNarhbKAzIvZGxG+Au4GFA/osBO5I0/cAfyBJqf3uiOiNiKeBzrQ9O07462jNmt9IguT+vomIWAF8o0Y1TAeezcx3pbaKfSLiZeAl4C3DXBcon4qT1C6p/eDBgzUq3erNX0dr1vyGHGyXtAn4TETcl22PiL+pW1V1EBFrgbUApVIpCi7HhslfR2vW/Ibzqa3lwJclPQN8LiL217iGbuCUzHxraqvUp0vSScCbgReGua6Ncv46WrPmNuSprYj4SUTMA/4O+IGkGyS9oYY1bANmSZohaRzlwfMNA/psAJam6cuAhyIiUvuS9KmuGcAs4Mc1rM3MzIYwrDGSNLC9G1gDfArYI+mPa1FAGvP4JPAA8DNgXUR0SFop6ZLU7TbgLZI6gauBFWndDmAdsAv4AfDnEfFKLeoyM7PhUfkP+0E6SP8AzAA6gK3AY8DPgb8AWiKiZteTNEqpVIr29vaiyzAzG21UqXE4YyTLgF3x24nzKUk/y12WmZmNakMGSTp9VM2Ha1iLmZmNQrnu/hsRe2tViJmZjU6+jbyZmeXiIDEzs1wcJGZmlouDxMzMcnGQmJlZLg4SMzPLxUFiZma5OEjMzCwXB4mZmeXiIDEzs1wcJGZmlouDxMzMcnGQmJlZLg4SMzPLxUFiZma5FBokkiZL2iRpT3qeVKHPHEmPSuqQtEPSRzLLvi7paUmPp8ecxv4EZmZW9BHJCmBzRMwCNqf5gY4AH42IM4D5wJclTcws/2xEzEmPx+tfspmZZRUdJAuBO9L0HcCigR0i4smI2JOmfwE8B7y1YRWamdmgig6SkyNif5o+AJw8WGdJZwPjgKcyzTemU143S2oZZN1lktoltR88eHDEha7f3s25Kx9hxor7OXflI6zf3j3ibZiZHY9OqvcLSHoQmFph0XXZmYgISTHIdqYBdwJLI+Joar6WcgCNA9YCy4GVldaPiLWpD6VSqerrVLJ+ezfX3LmbffeeSW/XZPa39nDNoR0ALJo7fSSbMjM77tQ9SCLigmrLJP1S0rSI2J+C4rkq/d4E3A9cFxFbM9vuO5rplfQ14DM1LP1Vqzd2lkNk35Tyi+2bwr57z2T1xA4HiZmNeUWf2toALE3TS4H7BnaQNA74LvCNiLhnwLJp6VmUx1eeqEeRB44cprdrcr+23q7JHDhyuB4vZ2Y2qhQdJKuAD0raA1yQ5pFUknRr6rMYeD/wsQof8/2WpJ3ATmAK8Jf1KHLq+Am0tPb0a2tp7WHq+An1eDkzs1FFESMaLjgulEqlaG9vH3b/gWMkLa09tF26g5v++HSf2jKzsUSVGus+RnI86AuL1RM7OHDkMFPHT2D5AoeImRk4SIZt0dzpDg4zswqKHiMxM7NRzkFiZma5OEjMzCwXB4mZmeXiIDEzs1wcJGZmlouDxMzMcnGQmJlZLg4SMzPLxUFiZma5OEjMzCwXB4mZmeXiIDEzs1wcJGZmlouDxMzMcnGQmJlZLoUGiaTJkjZJ2pOeJ1Xp90rm+9o3ZNpnSHpMUqekb0sa17jqzcwMij8iWQFsjohZwOY0X8mvI2JOelySaV8N3BwRM4EXgSvrW66ZmQ1UdJAsBO5I03cAi4a7oiQB5wP3HMv6ZmZWG0UHyckRsT9NHwBOrtLv9ZLaJW2V1BcWbwEORcTLab4LqPql6pKWpW20Hzx4sCbFm5kZnFTvF5D0IDC1wqLrsjMREZKiymZOjYhuSacBD0naCbw0kjoiYi2wFqBUKlV7HTMzG6G6B0lEXFBtmaRfSpoWEfslTQOeq7KN7vS8V9LDwFzgXmCipJPSUUkr0F3zH8DMzAZV9KmtDcDSNL0UuG9gB0mTJLWk6SnA+4BdERHAFuCywdY3M7P6KjpIVgEflLQHuCDNI6kk6dbU551Au6SfUg6OVRGxKy1bDlwtqZPymMltDa3ezMxQ+Q/7saVUKkV7e3vRZZiZjTaq1Fj0EYmZmY1yDhIzM8vFQWJmZrk4SMzMLBcHiZmZ5eIgMTOzXBwkZmaWi4PEzMxycZCYmVkuDhIzM8vFQWJmZrk4SMzMLBcHiZmZ5eIgMTOzXBwkZmaWi4PEzMxycZCYmVkuDhIzM8ul0CCRNFnSJkl70vOkCn3mSXo88/hnSYvSsq9LejqzbE7jfwozs7Gt6COSFcDmiJgFbE7z/UTEloiYExFzgPOBI8DfZ7p8tm95RDzekKrNzOxVRQfJQuCONH0HsGiI/pcB34+II3WtyszMhq3oIDk5Ivan6QPAyUP0XwLcNaDtRkk7JN0sqaXmFZqZ2aBOqvcLSHoQmFph0XXZmYgISTHIdqYBvws8kGm+lnIAjQPWAsuBlVXWXwYsA2hraxvBT2BmZoOpe5BExAXVlkn6paRpEbE/BcVzg2xqMfDdiPiXzLb7jmZ6JX0N+MwgdaylHDaUSqWqgWVmZiNT9KmtDcDSNL0UuG+Qvpcz4LRWCh8kifL4yhN1qNHMzAZRdJCsAj4oaQ9wQZpHUknSrX2dJL0dOAV4ZMD635K0E9gJTAH+sgE1m5lZhiLG3lmeUqkU7e3tRZdhZjbaqFJj0UckZmY2yjlIzMwsFweJmZnl4iAxM7NcHCRmZpaLg8TMzHJxkJiZWS4OEjMzy8VBYmZmuThIzMwsFweJmZnl4iAxM7NcHCRmZpaLg8TMzHJxkJiZWS4OEjMzy8VBYmZmuThIzMwsFweJmZnlUmiQSPqPkjokHZVUGqTffEm7JXVKWpFpnyHpsdT+bUnjGlO5mZn1KfqI5AngPwA/rNZB0onALcDFwGzgckmz0+LVwM0RMRN4EbiyvuWamdlAhQZJRPwsInYP0e1soDMi9kbEb4C7gYWSBJwP3JP63QEsql+1ZmZWyUlFFzAM04FnM/NdwDnAW4BDEfFypn16tY1IWgYsS7OHJQ0VYJVMAZ4/hvWKMprqHU21guutN9dbX8da7w8iYv7AxroHiaQHgakVFl0XEffV+/X7RMRaYG2ebUhqj4iqYznNZjTVO5pqBddbb663vmpdb92DJCIuyLmJbuCUzHxransBmCjppHRU0tduZmYNVPRg+3BsA2alT2iNA5YAGyIigC3AZanfUqBhRzhmZlZW9Md//1BSF3AucL+kB1L72yR9DyAdbXwSeAD4GbAuIjrSJpYDV0vqpDxmcludS851aqwAo6ne0VQruN56c731VdN6Vf7D3szM7NiMhlNbZmbWxBwkZmaWi4MkQ9JkSZsk7UnPkyr0mSPp0XRrlx2SPpJZ9nVJT0t6PD3m1KnOireMySxvSbeM6Uy3kHl7Ztm1qX23pIvqUd8x1Hu1pF1pf26WdGpm2SuZ/bmhSer9mKSDmbr+NLNsaXr/7JG0tEnqvTlT65OSDmWWNXT/Srpd0nOSnqiyXJL+Ov0sOyS9O7OsiH07VL3/KdW5U9KPJP3bzLJnUvvjktqbpN4PSHop82/++cyyQd9Hg4oIP9IDuAlYkaZXAKsr9Pk3wKw0/TZgPzAxzX8duKzONZ4IPAWcBowDfgrMHtDnPwNfSdNLgG+n6dmpfwswI23nxCaodx4wPk1f1Vdvmj/c4PfAcOr9GPC3FdadDOxNz5PS9KSi6x3Q/1PA7QXu3/cD7waeqLL8Q8D3AQG/BzxW1L4dZr3v7auD8m2cHsssewaY0mT79wPA3+V9Hw18+Iikv4WUb7UCVW65EhFPRsSeNP0L4DngrQ2rsMotYwb0yf4c9wB/IEmp/e6I6I2Ip4HOtL1C642ILRFxJM1upXxNUFGGs3+ruQjYFBE9EfEisAn4rauAa2yk9V4O3FXnmqqKiB8CPYN0WQh8I8q2Ur5WbBrF7Nsh642IH6V6oPj37nD2bzV53vcOkgFOjoj9afoAcPJgnSWdTTm9n8o035gOdW+W1FKHGivdMmbgrWFe7RPlj0+/RPnj0cNZt9ZG+ppXUv6LtM/rJbVL2iqpEfdSG269l6Z/53sk9V0w29T7N50ynAE8lGlu9P4dSrWfp4h9O1ID37sB/L2k/6vyLZqaxbmSfirp+5LOSG259u9ouNdWTWmQW7ZkZyIiJFX9bHT6K+lOYGlEHE3N11IOoHGUP6e9HFhZi7rHAklXACXgvEzzqRHRLek04CFJOyPiqcpbaJiNwF0R0Svpzygf/Z1fcE3DsQS4JyJeybQ14/4ddSTNoxwkv59p/v20b/81sEnSz9MRQ5F+Qvnf/LCkDwHrgVl5Nzrmjkgi4oKIeFeFx33AL1NA9AXFc5W2IelNwP2U7xe2NbPt/emQvBf4GvU5bVTtljEV+0g6CXgz5VvKDGfdWhvWa0q6gHKYX5L2HwAR0Z2e9wIPA3PrWSzDqDciXsjUeCvwnuGuWwcjec0lDDitVcD+HUq1n6eIfTssks6k/D5YGBEv9LVn9u1zwHep/2nkIUXEP0bE4TT9PeB1kqaQd/82ciCo2R/AX9F/sP2mCn3GAZuB/1Jh2bT0LODLwKo61HgS5YHGGbw2KHbGgD5/Tv/B9nVp+gz6D7bvpf6D7cOpdy7l04OzBrRPAlrS9BRgDyMYAKxjvdMy038IbE3Tk4GnU92T0vTkoutN/d5BefBXRe7f9Fpvp/pg8IfpP9j+46L27TDrbaM81vjeAe3/CnhjZvpHwPwmqHdq33uAcrDtS/t6WO+jqq/ZiB9stDwojyNsTr9QD/a9USmfbrk1TV8B/AvweOYxJy17CNhJ+Qu7vglMqFOdHwKeTP/5XpfaVlL+ax7g9cB30hv8x8BpmXWvS+vtBi5u0H4dqt4HgV9m9ueG1P7etD9/mp6vbJJ6vwR0pLq2AO/IrPvxtN87gT9phnrT/BcY8IdNEfuX8hHR/vQ71EX5dNAngE+k5aL8RXZPpZpKBe/boeq9lfKX6vW9d9tT+2lpv/40vVeua5J6P5l5724lE4CV3kfDffgWKWZmlsuYGyMxM7PacpCYmVkuDhIzM8vFQWJmZrk4SMzMLBcHiZmZ5eIgMTOzXBwkZgWR9C5JP8rMv1vS5iJrMjsWviDRrCCSTgB+AUyPiFckPQxcHRE/KbYys5EZc3f/NWsWEXFUUgdwhqRZwP+LiJ+kO/FeB7w5Ii4rtkqzofnUllmxtgLvo3wvrM9B+U68EXFlkUWZjYSPSMyKtZXyVzTfEum242ajjY9IzIr1c6AXWF10IWbHykFiVqy/AK6NiH/qa5D0FklfAeZKura40syGx5/aMiuApN+h/C2b/+DxEBvtHCRmZpaLT22ZmVkuDhIzM8vFQWJmZrk4SMzMLBcHiZmZ5eIgMTOzXBwkZmaWy/8HRyB4aBicTkoAAAAASUVORK5CYII=\n"
                },
                "metadata": {
                  "needs_background": "light"
                }
              }
            ]
          }
        },
        "527f8e5ac7c44051ad6a1e7849ea5675": {
          "model_module": "@jupyter-widgets/base",
          "model_name": "LayoutModel",
          "model_module_version": "1.2.0",
          "state": {
            "_model_module": "@jupyter-widgets/base",
            "_model_module_version": "1.2.0",
            "_model_name": "LayoutModel",
            "_view_count": null,
            "_view_module": "@jupyter-widgets/base",
            "_view_module_version": "1.2.0",
            "_view_name": "LayoutView",
            "align_content": null,
            "align_items": null,
            "align_self": null,
            "border": null,
            "bottom": null,
            "display": null,
            "flex": null,
            "flex_flow": null,
            "grid_area": null,
            "grid_auto_columns": null,
            "grid_auto_flow": null,
            "grid_auto_rows": null,
            "grid_column": null,
            "grid_gap": null,
            "grid_row": null,
            "grid_template_areas": null,
            "grid_template_columns": null,
            "grid_template_rows": null,
            "height": null,
            "justify_content": null,
            "justify_items": null,
            "left": null,
            "margin": null,
            "max_height": null,
            "max_width": null,
            "min_height": null,
            "min_width": null,
            "object_fit": null,
            "object_position": null,
            "order": null,
            "overflow": null,
            "overflow_x": null,
            "overflow_y": null,
            "padding": null,
            "right": null,
            "top": null,
            "visibility": null,
            "width": null
          }
        },
        "2176e25b657a490fb81724eb2f924b29": {
          "model_module": "@jupyter-widgets/base",
          "model_name": "LayoutModel",
          "model_module_version": "1.2.0",
          "state": {
            "_model_module": "@jupyter-widgets/base",
            "_model_module_version": "1.2.0",
            "_model_name": "LayoutModel",
            "_view_count": null,
            "_view_module": "@jupyter-widgets/base",
            "_view_module_version": "1.2.0",
            "_view_name": "LayoutView",
            "align_content": null,
            "align_items": null,
            "align_self": null,
            "border": null,
            "bottom": null,
            "display": null,
            "flex": null,
            "flex_flow": null,
            "grid_area": null,
            "grid_auto_columns": null,
            "grid_auto_flow": null,
            "grid_auto_rows": null,
            "grid_column": null,
            "grid_gap": null,
            "grid_row": null,
            "grid_template_areas": null,
            "grid_template_columns": null,
            "grid_template_rows": null,
            "height": null,
            "justify_content": null,
            "justify_items": null,
            "left": null,
            "margin": null,
            "max_height": null,
            "max_width": null,
            "min_height": null,
            "min_width": null,
            "object_fit": null,
            "object_position": null,
            "order": null,
            "overflow": null,
            "overflow_x": null,
            "overflow_y": null,
            "padding": null,
            "right": null,
            "top": null,
            "visibility": null,
            "width": null
          }
        },
        "0274d8a003f544ddbe4f8c291a615193": {
          "model_module": "@jupyter-widgets/controls",
          "model_name": "SliderStyleModel",
          "model_module_version": "1.5.0",
          "state": {
            "_model_module": "@jupyter-widgets/controls",
            "_model_module_version": "1.5.0",
            "_model_name": "SliderStyleModel",
            "_view_count": null,
            "_view_module": "@jupyter-widgets/base",
            "_view_module_version": "1.2.0",
            "_view_name": "StyleView",
            "description_width": "",
            "handle_color": null
          }
        },
        "ee3ccd826a744f8ca67d4f73af79938a": {
          "model_module": "@jupyter-widgets/base",
          "model_name": "LayoutModel",
          "model_module_version": "1.2.0",
          "state": {
            "_model_module": "@jupyter-widgets/base",
            "_model_module_version": "1.2.0",
            "_model_name": "LayoutModel",
            "_view_count": null,
            "_view_module": "@jupyter-widgets/base",
            "_view_module_version": "1.2.0",
            "_view_name": "LayoutView",
            "align_content": null,
            "align_items": null,
            "align_self": null,
            "border": null,
            "bottom": null,
            "display": null,
            "flex": null,
            "flex_flow": null,
            "grid_area": null,
            "grid_auto_columns": null,
            "grid_auto_flow": null,
            "grid_auto_rows": null,
            "grid_column": null,
            "grid_gap": null,
            "grid_row": null,
            "grid_template_areas": null,
            "grid_template_columns": null,
            "grid_template_rows": null,
            "height": null,
            "justify_content": null,
            "justify_items": null,
            "left": null,
            "margin": null,
            "max_height": null,
            "max_width": null,
            "min_height": null,
            "min_width": null,
            "object_fit": null,
            "object_position": null,
            "order": null,
            "overflow": null,
            "overflow_x": null,
            "overflow_y": null,
            "padding": null,
            "right": null,
            "top": null,
            "visibility": null,
            "width": null
          }
        },
        "3c0a02c7f90b4f83a3f1ced992a59339": {
          "model_module": "@jupyter-widgets/controls",
          "model_name": "SliderStyleModel",
          "model_module_version": "1.5.0",
          "state": {
            "_model_module": "@jupyter-widgets/controls",
            "_model_module_version": "1.5.0",
            "_model_name": "SliderStyleModel",
            "_view_count": null,
            "_view_module": "@jupyter-widgets/base",
            "_view_module_version": "1.2.0",
            "_view_name": "StyleView",
            "description_width": "",
            "handle_color": null
          }
        },
        "a061ac7b04ad4901a78e3897d3ce2185": {
          "model_module": "@jupyter-widgets/base",
          "model_name": "LayoutModel",
          "model_module_version": "1.2.0",
          "state": {
            "_model_module": "@jupyter-widgets/base",
            "_model_module_version": "1.2.0",
            "_model_name": "LayoutModel",
            "_view_count": null,
            "_view_module": "@jupyter-widgets/base",
            "_view_module_version": "1.2.0",
            "_view_name": "LayoutView",
            "align_content": null,
            "align_items": null,
            "align_self": null,
            "border": null,
            "bottom": null,
            "display": null,
            "flex": null,
            "flex_flow": null,
            "grid_area": null,
            "grid_auto_columns": null,
            "grid_auto_flow": null,
            "grid_auto_rows": null,
            "grid_column": null,
            "grid_gap": null,
            "grid_row": null,
            "grid_template_areas": null,
            "grid_template_columns": null,
            "grid_template_rows": null,
            "height": null,
            "justify_content": null,
            "justify_items": null,
            "left": null,
            "margin": null,
            "max_height": null,
            "max_width": null,
            "min_height": null,
            "min_width": null,
            "object_fit": null,
            "object_position": null,
            "order": null,
            "overflow": null,
            "overflow_x": null,
            "overflow_y": null,
            "padding": null,
            "right": null,
            "top": null,
            "visibility": null,
            "width": null
          }
        }
      }
    }
  },
  "nbformat": 4,
  "nbformat_minor": 0
}